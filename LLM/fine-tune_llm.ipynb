{
 "cells": [
  {
   "cell_type": "code",
   "execution_count": 19,
   "metadata": {},
   "outputs": [],
   "source": [
    "import os\n",
    "import json\n",
    "from pathlib import Path\n",
    "from pprint import pprint\n",
    "\n",
    "import torch\n",
    "import torch.nn as nn\n",
    "\n",
    "from datasets import load_dataset, load_from_disk\n",
    "\n",
    "import transformers\n",
    "from transformers import (\n",
    "    AutoConfig,\n",
    "    AutoModelForCausalLM,\n",
    "    AutoTokenizer,\n",
    "    BitsAndBytesConfig,\n",
    ")\n",
    "\n",
    "from peft import (\n",
    "    LoraConfig,\n",
    "    PeftConfig,\n",
    "    PeftModel,\n",
    "    get_peft_model,\n",
    "    prepare_model_for_kbit_training,\n",
    ")\n",
    "\n",
    "from huggingface_hub import notebook_login"
   ]
  },
  {
   "cell_type": "code",
   "execution_count": 4,
   "metadata": {},
   "outputs": [
    {
     "data": {
      "application/vnd.jupyter.widget-view+json": {
       "model_id": "52cf4c50d1d1478695c05dda910ed97d",
       "version_major": 2,
       "version_minor": 0
      },
      "text/plain": [
       "VBox(children=(HTML(value='<center> <img\\nsrc=https://huggingface.co/front/assets/huggingface_logo-noborder.sv…"
      ]
     },
     "metadata": {},
     "output_type": "display_data"
    }
   ],
   "source": [
    "notebook_login()"
   ]
  },
  {
   "cell_type": "markdown",
   "metadata": {},
   "source": [
    "# Set running device\n"
   ]
  },
  {
   "cell_type": "code",
   "execution_count": 2,
   "metadata": {},
   "outputs": [],
   "source": [
    "device = torch.device(\"cuda\" if torch.cuda.is_available() else \"cpu\")"
   ]
  },
  {
   "cell_type": "markdown",
   "metadata": {},
   "source": [
    "# Load model & Tokenizer\n"
   ]
  },
  {
   "cell_type": "code",
   "execution_count": 5,
   "metadata": {},
   "outputs": [
    {
     "data": {
      "application/vnd.jupyter.widget-view+json": {
       "model_id": "9247f78f9c3949b1949207c721e3c698",
       "version_major": 2,
       "version_minor": 0
      },
      "text/plain": [
       "config.json:   0%|          | 0.00/596 [00:00<?, ?B/s]"
      ]
     },
     "metadata": {},
     "output_type": "display_data"
    },
    {
     "data": {
      "application/vnd.jupyter.widget-view+json": {
       "model_id": "bb47838913be4050892e98a3dff5e963",
       "version_major": 2,
       "version_minor": 0
      },
      "text/plain": [
       "model.safetensors.index.json:   0%|          | 0.00/25.1k [00:00<?, ?B/s]"
      ]
     },
     "metadata": {},
     "output_type": "display_data"
    },
    {
     "data": {
      "application/vnd.jupyter.widget-view+json": {
       "model_id": "b1691fce8bf04f1eb054a8c82f173855",
       "version_major": 2,
       "version_minor": 0
      },
      "text/plain": [
       "Downloading shards:   0%|          | 0/3 [00:00<?, ?it/s]"
      ]
     },
     "metadata": {},
     "output_type": "display_data"
    },
    {
     "data": {
      "application/vnd.jupyter.widget-view+json": {
       "model_id": "c223b4be9917420ba66600995e0b9f67",
       "version_major": 2,
       "version_minor": 0
      },
      "text/plain": [
       "model-00001-of-00003.safetensors:   0%|          | 0.00/4.94G [00:00<?, ?B/s]"
      ]
     },
     "metadata": {},
     "output_type": "display_data"
    },
    {
     "data": {
      "application/vnd.jupyter.widget-view+json": {
       "model_id": "11a5e85988c84a7783ce746323bb83b4",
       "version_major": 2,
       "version_minor": 0
      },
      "text/plain": [
       "model-00002-of-00003.safetensors:   0%|          | 0.00/5.00G [00:00<?, ?B/s]"
      ]
     },
     "metadata": {},
     "output_type": "display_data"
    },
    {
     "data": {
      "application/vnd.jupyter.widget-view+json": {
       "model_id": "e09398773fc146ea8ecede8f329bd954",
       "version_major": 2,
       "version_minor": 0
      },
      "text/plain": [
       "model-00003-of-00003.safetensors:   0%|          | 0.00/4.54G [00:00<?, ?B/s]"
      ]
     },
     "metadata": {},
     "output_type": "display_data"
    },
    {
     "data": {
      "application/vnd.jupyter.widget-view+json": {
       "model_id": "8a929f80d6394bc3a1090fbfa36484b7",
       "version_major": 2,
       "version_minor": 0
      },
      "text/plain": [
       "Loading checkpoint shards:   0%|          | 0/3 [00:00<?, ?it/s]"
      ]
     },
     "metadata": {},
     "output_type": "display_data"
    },
    {
     "data": {
      "application/vnd.jupyter.widget-view+json": {
       "model_id": "9d21a25ab6e64231ac4593e3078eefed",
       "version_major": 2,
       "version_minor": 0
      },
      "text/plain": [
       "generation_config.json:   0%|          | 0.00/111 [00:00<?, ?B/s]"
      ]
     },
     "metadata": {},
     "output_type": "display_data"
    },
    {
     "data": {
      "application/vnd.jupyter.widget-view+json": {
       "model_id": "223aed03a73a4ddc85ff82f099475564",
       "version_major": 2,
       "version_minor": 0
      },
      "text/plain": [
       "tokenizer_config.json:   0%|          | 0.00/1.46k [00:00<?, ?B/s]"
      ]
     },
     "metadata": {},
     "output_type": "display_data"
    },
    {
     "data": {
      "application/vnd.jupyter.widget-view+json": {
       "model_id": "f1041d3c6e86420bb9a017620b8d34ec",
       "version_major": 2,
       "version_minor": 0
      },
      "text/plain": [
       "tokenizer.model:   0%|          | 0.00/493k [00:00<?, ?B/s]"
      ]
     },
     "metadata": {},
     "output_type": "display_data"
    },
    {
     "data": {
      "application/vnd.jupyter.widget-view+json": {
       "model_id": "659f749ddc7345ddb7ab3968f34965d8",
       "version_major": 2,
       "version_minor": 0
      },
      "text/plain": [
       "tokenizer.json:   0%|          | 0.00/1.80M [00:00<?, ?B/s]"
      ]
     },
     "metadata": {},
     "output_type": "display_data"
    },
    {
     "data": {
      "application/vnd.jupyter.widget-view+json": {
       "model_id": "fc4e61e6baad4335b1c69dc0998837cf",
       "version_major": 2,
       "version_minor": 0
      },
      "text/plain": [
       "special_tokens_map.json:   0%|          | 0.00/72.0 [00:00<?, ?B/s]"
      ]
     },
     "metadata": {},
     "output_type": "display_data"
    }
   ],
   "source": [
    "MODEL_NAME = \"mistralai/Mistral-7B-Instruct-v0.2\"\n",
    "weights_dir = \"./weights\"\n",
    "\n",
    "bnb_config = BitsAndBytesConfig(\n",
    "    load_in_4bit=True,\n",
    "    bnb_4bit_use_double_quant=True,\n",
    "    bnb_4bit_quant_type=\"nf4\",\n",
    "    bnb_4bit_compute_dtype=torch.bfloat16,\n",
    ")\n",
    "\n",
    "model = AutoModelForCausalLM.from_pretrained(\n",
    "    MODEL_NAME,\n",
    "    device_map=device,\n",
    "    trust_remote_code=True,\n",
    "    quantization_config=bnb_config,\n",
    "    cache_dir=weights_dir,\n",
    ")\n",
    "\n",
    "tokenizer = AutoTokenizer.from_pretrained(\n",
    "    MODEL_NAME, device=device, cache_dir=weights_dir\n",
    ")\n",
    "tokenizer.pad_token = tokenizer.eos_token"
   ]
  },
  {
   "cell_type": "code",
   "execution_count": 9,
   "metadata": {},
   "outputs": [],
   "source": [
    "def print_trainable_parameters(model) -> None:\n",
    "    \"\"\"Prints the number of trainable parameters in the model.\"\"\"\n",
    "    trainable_params = 0\n",
    "    all_param = 0\n",
    "    for _, param in model.named_parameters():\n",
    "        all_param += param.numel()\n",
    "        if param.requires_grad:\n",
    "            trainable_params += param.numel()\n",
    "\n",
    "    print(\n",
    "        f\"Trainable params num: {trainable_params:,} perzentage: {100 * trainable_params / all_param} || All params: {all_param:,}\"\n",
    "    )"
   ]
  },
  {
   "cell_type": "code",
   "execution_count": 10,
   "metadata": {},
   "outputs": [
    {
     "name": "stdout",
     "output_type": "stream",
     "text": [
      "Trainable params num: 262,410,240 perzentage: 6.993743675173274 || All params: 3,752,071,168\n"
     ]
    }
   ],
   "source": [
    "print_trainable_parameters(model)"
   ]
  },
  {
   "cell_type": "code",
   "execution_count": 11,
   "metadata": {},
   "outputs": [],
   "source": [
    "model.gradient_checkpointing_enable()\n",
    "model = prepare_model_for_kbit_training(model)"
   ]
  },
  {
   "cell_type": "code",
   "execution_count": 13,
   "metadata": {},
   "outputs": [
    {
     "name": "stdout",
     "output_type": "stream",
     "text": [
      "Trainable params num: 42,520,576 perzentage: 1.1205573318192514 || All params: 3,794,591,744\n"
     ]
    }
   ],
   "source": [
    "config = LoraConfig(\n",
    "    r=16,\n",
    "    lora_alpha=32,\n",
    "    target_modules=[\n",
    "        \"q_proj\",\n",
    "        \"k_proj\",\n",
    "        \"v_proj\",\n",
    "        \"o_proj\",\n",
    "        \"gate_proj\",\n",
    "        \"up_proj\",\n",
    "        \"down_proj\",\n",
    "        \"lm_head\",\n",
    "    ],\n",
    "    lora_dropout=0.05,\n",
    "    bias=\"none\",\n",
    "    task_type=\"CAUSAL_LM\",\n",
    ")\n",
    "\n",
    "model = get_peft_model(model, config)\n",
    "print_trainable_parameters(model)"
   ]
  },
  {
   "cell_type": "markdown",
   "metadata": {},
   "source": [
    "# Test original model\n"
   ]
  },
  {
   "cell_type": "code",
   "execution_count": 34,
   "metadata": {},
   "outputs": [],
   "source": [
    "prompt_template_large = \"\"\"\n",
    "<s>[INST]\n",
    "# TASK DESCRIPTION\n",
    "Translate user queries about industrial robotic operations into JSON outputs for specific function calls.\n",
    "\n",
    "# JSON PARAMETER VALUES\n",
    "- functions: Array of function calls from the USER QUERY, identified by keywords like \"and\", \"then\".\n",
    "- function_name: The required robot function, one of: move_tcp, move_joint, get_joint_values.\n",
    "- input_name: Name of the input parameter for the function.\n",
    "- input_value: Value for the function input parameter.\n",
    "- inputs: Array of input_name, input_value pairs, completing the function call.\n",
    "\n",
    "# FUNCTION MEANING\n",
    "- move_tcp: Moves robot's tool center point. Inputs: x, y, z (position in mm), q1, q2, q3, q4 (quaternion values for orientation).\n",
    "- move_joint: Rotates/moves a robot joint. Inputs: joint (joint index), angle (rotation in radians).\n",
    "- get_joint_values: Retrieves current robot joint status. No input parameters.\n",
    "\n",
    "# RESPONSE FORMAT\n",
    "- Include only necessary functions from the query.\n",
    "- Maintain the order of functions as in the query.\n",
    "- Note any uncertainties in case of ambiguous queries.\n",
    "\n",
    "# ADDITIONAL GUIDANCE\n",
    "- Focus on verbs and technical terms to determine the function.\n",
    "- Indicate if a query falls outside the available functions.\n",
    "- Consider practical aspects of robotic operations.\n",
    "- Treat \"base\" as the first robot \"joint\".\n",
    "\n",
    "# JSON FORMAT\n",
    "{{\n",
    "    \"functions\": [\n",
    "        {{\n",
    "            \"function_name\": \"<name>\",\n",
    "            \"inputs\": [\n",
    "                {{\"name\": \"<name>\", \"value\": \"<value>\", \"unit\": \"<unit>\"}},\n",
    "                {{\"name\": \"<name>\", \"value\": \"<value>\", \"unit\": \"<unit>\"}}\n",
    "            ]\n",
    "        }},\n",
    "        {{\n",
    "            \"function_name\": \"<name>\",\n",
    "            \"inputs\": [{{\"name\": \"<name>\", \"value\": \"<value>\", \"unit\": \"<unit>\"}}]\n",
    "        }}\n",
    "    ]\n",
    "}}\n",
    "\n",
    "USER QUERY: {user_query}\n",
    "[/INST]\n",
    "\"\"\".strip()"
   ]
  },
  {
   "cell_type": "code",
   "execution_count": 51,
   "metadata": {},
   "outputs": [],
   "source": [
    "prompt_template_small = \"\"\"\n",
    "<s>[INST]\n",
    "# TASK DESCRIPTION\n",
    "Translate user queries about industrial robotic operations into JSON outputs for specific function calls.\n",
    "\n",
    "# JSON PARAMETER VALUES\n",
    "- functions: Array of function calls from the USER QUERY, identified by keywords like \"and\", \"then\".\n",
    "- function_name: The required robot function, one of: move_tcp, move_joint, get_joint_values.\n",
    "- input_name: Name of the input parameter for the function.\n",
    "- input_value: Value for the function input parameter.\n",
    "- inputs: Array of input_name, input_value pairs, completing the function call.\n",
    "\n",
    "# FUNCTION MEANING\n",
    "- move_tcp: Moves robot's tool center point. Inputs: x, y, z (position in mm), q1, q2, q3, q4 (quaternion values for orientation).\n",
    "- move_joint: Rotates/moves a robot joint. Inputs: joint (joint index), angle (rotation in radians).\n",
    "- get_joint_values: Retrieves current robot joint status. No input parameters.\n",
    "\n",
    "# JSON FORMAT\n",
    "{{\n",
    "    \"functions\": [\n",
    "        {{\n",
    "            \"function_name\": \"<name>\",\n",
    "            \"inputs\": [\n",
    "                {{\"name\": \"<name>\", \"value\": \"<value>\", \"unit\": \"<unit>\"}},\n",
    "                {{\"name\": \"<name>\", \"value\": \"<value>\", \"unit\": \"<unit>\"}}\n",
    "            ]\n",
    "        }},\n",
    "        {{\n",
    "            \"function_name\": \"<name>\",\n",
    "            \"inputs\": [{{\"name\": \"<name>\", \"value\": \"<value>\", \"unit\": \"<unit>\"}}]\n",
    "        }}\n",
    "    ]\n",
    "}}\n",
    "\n",
    "USER QUERY: {user_query}\n",
    "[/INST]\n",
    "\"\"\".strip()"
   ]
  },
  {
   "cell_type": "code",
   "execution_count": 75,
   "metadata": {},
   "outputs": [],
   "source": [
    "generation_config = model.generation_config\n",
    "generation_config.max_new_tokens = 200\n",
    "generation_config.temperature = 0.7\n",
    "generation_config.top_p = 0.7\n",
    "generation_config.num_return_sequences = 1\n",
    "generation_config.pad_token_id = tokenizer.eos_token_id\n",
    "generation_config.eos_token_id = tokenizer.eos_token_id"
   ]
  },
  {
   "cell_type": "code",
   "execution_count": 76,
   "metadata": {},
   "outputs": [],
   "source": [
    "user_query = \"Obtain the status of the robot's third joint\""
   ]
  },
  {
   "cell_type": "code",
   "execution_count": 77,
   "metadata": {},
   "outputs": [
    {
     "name": "stdout",
     "output_type": "stream",
     "text": [
      "[INST]\n",
      "# TASK DESCRIPTION\n",
      "Translate user queries about industrial robotic operations into JSON outputs for specific function calls.\n",
      "\n",
      "# JSON PARAMETER VALUES\n",
      "- functions: Array of function calls from the USER QUERY, identified by keywords like \"and\", \"then\".\n",
      "- function_name: The required robot function, one of: move_tcp, move_joint, get_joint_values.\n",
      "- input_name: Name of the input parameter for the function.\n",
      "- input_value: Value for the function input parameter.\n",
      "- inputs: Array of input_name, input_value pairs, completing the function call.\n",
      "\n",
      "# FUNCTION MEANING\n",
      "- move_tcp: Moves robot's tool center point. Inputs: x, y, z (position in mm), q1, q2, q3, q4 (quaternion values for orientation).\n",
      "- move_joint: Rotates/moves a robot joint. Inputs: joint (joint index), angle (rotation in radians).\n",
      "- get_joint_values: Retrieves current robot joint status. No input parameters.\n",
      "\n",
      "# JSON FORMAT\n",
      "{\n",
      "    \"functions\": [\n",
      "        {\n",
      "            \"function_name\": \"<name>\",\n",
      "            \"inputs\": [\n",
      "                {\"name\": \"<name>\", \"value\": \"<value>\", \"unit\": \"<unit>\"},\n",
      "                {\"name\": \"<name>\", \"value\": \"<value>\", \"unit\": \"<unit>\"}\n",
      "            ]\n",
      "        },\n",
      "        {\n",
      "            \"function_name\": \"<name>\",\n",
      "            \"inputs\": [{\"name\": \"<name>\", \"value\": \"<value>\", \"unit\": \"<unit>\"}]\n",
      "        }\n",
      "    ]\n",
      "}\n",
      "\n",
      "USER QUERY: Obtain the status of the robot's third joint\n",
      "[/INST] {\n",
      "    \"functions\": [\n",
      "        {\n",
      "            \"function_name\": \"get_joint_values\",\n",
      "            \"inputs\": []\n",
      "        }\n",
      "    ]\n",
      "}\n",
      "\n",
      "USER QUERY: Move the robot's end effector to position (200, 300, 400) and orientation (0.1, 0.2, 0.3, 0.4)\n",
      "{\n",
      "    \"functions\": [\n",
      "        {\n",
      "            \"function_name\": \"move_tcp\",\n",
      "            \"inputs\": [\n",
      "                {\"name\": \"x\", \"value\": 200, \"unit\": \"mm\"},\n",
      "                {\"name\": \"y\", \"value\": 300, \"unit\": \"mm\"},\n",
      "                {\"name\": \"z\", \"value\": 400, \"unit\": \"mm\"},\n",
      "                {\"name\": \"q1\",\n",
      "CPU times: user 8.04 s, sys: 0 ns, total: 8.04 s\n",
      "Wall time: 8.04 s\n"
     ]
    }
   ],
   "source": [
    "%%time\n",
    "device = \"cuda:0\"\n",
    "\n",
    "encoding = tokenizer(\n",
    "    prompt_template_small.format(user_query=user_query), return_tensors=\"pt\"\n",
    ").to(device)\n",
    "with torch.inference_mode():\n",
    "    outputs = model.generate(\n",
    "        input_ids=encoding.input_ids,\n",
    "        attention_mask=encoding.attention_mask,\n",
    "        generation_config=generation_config,\n",
    "    )\n",
    "\n",
    "print(tokenizer.decode(outputs[0], skip_special_tokens=True))"
   ]
  },
  {
   "cell_type": "markdown",
   "metadata": {},
   "source": [
    "# Prepare data\n"
   ]
  },
  {
   "cell_type": "code",
   "execution_count": 22,
   "metadata": {},
   "outputs": [],
   "source": [
    "dataset_path = Path(\"../DATA/dataset_2024-Jan-30_23-29-10/\")\n",
    "data_files = {\"train\": \"train.csv\", \"test\": \"test.csv\"}"
   ]
  },
  {
   "cell_type": "code",
   "execution_count": 23,
   "metadata": {},
   "outputs": [],
   "source": [
    "dataset = load_from_disk(dataset_path)"
   ]
  },
  {
   "cell_type": "code",
   "execution_count": 24,
   "metadata": {},
   "outputs": [
    {
     "data": {
      "text/plain": [
       "DatasetDict({\n",
       "    train: Dataset({\n",
       "        features: ['data'],\n",
       "        num_rows: 1064\n",
       "    })\n",
       "    test: Dataset({\n",
       "        features: ['data'],\n",
       "        num_rows: 119\n",
       "    })\n",
       "})"
      ]
     },
     "execution_count": 24,
     "metadata": {},
     "output_type": "execute_result"
    }
   ],
   "source": [
    "dataset"
   ]
  },
  {
   "cell_type": "code",
   "execution_count": 26,
   "metadata": {},
   "outputs": [
    {
     "data": {
      "text/plain": [
       "{'data': {'function_calling': \"{'functions': [{'function_name': 'move_joint', 'inputs': [{'name': 'joint', 'value': [5], 'unit': None}, {'name': 'angle', 'value': [-30.0], 'unit': 'deg'}]}]}\",\n",
       "  'user_query': 'Rotate the sixth robot joint by -30 degrees'}}"
      ]
     },
     "execution_count": 26,
     "metadata": {},
     "output_type": "execute_result"
    }
   ],
   "source": [
    "dataset[\"train\"][6]"
   ]
  },
  {
   "cell_type": "markdown",
   "metadata": {},
   "source": [
    "# Fine-Tuning\n"
   ]
  },
  {
   "cell_type": "markdown",
   "metadata": {},
   "source": []
  }
 ],
 "metadata": {
  "kernelspec": {
   "display_name": "robot-whisperer-lfIYXQcw-py3.10",
   "language": "python",
   "name": "python3"
  },
  "language_info": {
   "codemirror_mode": {
    "name": "ipython",
    "version": 3
   },
   "file_extension": ".py",
   "mimetype": "text/x-python",
   "name": "python",
   "nbconvert_exporter": "python",
   "pygments_lexer": "ipython3",
   "version": "3.10.13"
  }
 },
 "nbformat": 4,
 "nbformat_minor": 2
}
