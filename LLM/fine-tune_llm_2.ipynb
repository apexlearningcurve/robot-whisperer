{
 "cells": [
  {
   "cell_type": "code",
   "execution_count": 109,
   "metadata": {},
   "outputs": [],
   "source": [
    "import json\n",
    "import torch\n",
    "import transformers\n",
    "from pathlib import Path\n",
    "from datetime import datetime\n",
    "from datasets import load_from_disk\n",
    "from transformers import AutoTokenizer, AutoModelForCausalLM, BitsAndBytesConfig\n",
    "\n",
    "from peft import LoraConfig, PeftModel, prepare_model_for_kbit_training, get_peft_model\n",
    "\n",
    "import bitsandbytes as bnb\n",
    "\n",
    "from trl import SFTTrainer"
   ]
  },
  {
   "cell_type": "markdown",
   "metadata": {},
   "source": [
    "## Config\n"
   ]
  },
  {
   "cell_type": "code",
   "execution_count": 2,
   "metadata": {},
   "outputs": [],
   "source": [
    "dataset_path = Path(\"../DATA/dataset_2024-Jan-30_23-29-10/\")"
   ]
  },
  {
   "cell_type": "code",
   "execution_count": 3,
   "metadata": {},
   "outputs": [],
   "source": [
    "bnb_config = BitsAndBytesConfig(\n",
    "    load_in_4bit=True,\n",
    "    bnb_4bit_use_double_quant=True,\n",
    "    bnb_4bit_quant_type=\"nf4\",\n",
    "    bnb_4bit_compute_dtype=torch.float16,\n",
    ")"
   ]
  },
  {
   "cell_type": "code",
   "execution_count": 4,
   "metadata": {},
   "outputs": [
    {
     "name": "stdout",
     "output_type": "stream",
     "text": [
      "Running device: cuda:0\n"
     ]
    }
   ],
   "source": [
    "device = torch.device(\"cuda:0\" if torch.cuda.is_available() else \"cpu\")\n",
    "print(f\"Running device: {device}\")"
   ]
  },
  {
   "cell_type": "markdown",
   "metadata": {},
   "source": [
    "## Model\n"
   ]
  },
  {
   "cell_type": "code",
   "execution_count": 5,
   "metadata": {},
   "outputs": [
    {
     "data": {
      "application/vnd.jupyter.widget-view+json": {
       "model_id": "42364afd7a03415daf4603765d84da12",
       "version_major": 2,
       "version_minor": 0
      },
      "text/plain": [
       "Loading checkpoint shards:   0%|          | 0/3 [00:00<?, ?it/s]"
      ]
     },
     "metadata": {},
     "output_type": "display_data"
    }
   ],
   "source": [
    "model_id = \"mistralai/Mistral-7B-Instruct-v0.2\"\n",
    "weights_dir = \"./weights\"\n",
    "\n",
    "\n",
    "model = AutoModelForCausalLM.from_pretrained(\n",
    "    model_id,\n",
    "    quantization_config=bnb_config,\n",
    "    device_map={\"\": 0},\n",
    "    cache_dir=weights_dir,\n",
    ")\n",
    "tokenizer = AutoTokenizer.from_pretrained(\n",
    "    model_id,\n",
    "    add_eos_token=True,\n",
    "    cache_dir=weights_dir,\n",
    "    padding_side=\"left\",  # Warning message indicated this\n",
    ")"
   ]
  },
  {
   "cell_type": "markdown",
   "metadata": {},
   "source": [
    "## Run inference on base model\n"
   ]
  },
  {
   "cell_type": "code",
   "execution_count": 6,
   "metadata": {},
   "outputs": [],
   "source": [
    "prompt_template = \"\"\"\n",
    "\n",
    "    [INST]\n",
    "    Translate user queries about industrial robotic operations into JSON outputs for specific function calls.\n",
    "    {query}\n",
    "    [/INST]\n",
    "\n",
    "\n",
    "    \n",
    "    \"\"\""
   ]
  },
  {
   "cell_type": "code",
   "execution_count": 7,
   "metadata": {},
   "outputs": [],
   "source": [
    "def get_completion(\n",
    "    prompt: str, model, tokenizer, device: torch.device, max_new_tokens: int = 1000\n",
    ") -> str:\n",
    "    encoded_prompt = tokenizer(prompt, return_tensors=\"pt\", add_special_tokens=True).to(\n",
    "        device\n",
    "    )\n",
    "    print(f\"Tokens shape: {encoded_prompt['input_ids'].shape}\")\n",
    "\n",
    "    generated_ids = model.generate(\n",
    "        **encoded_prompt,\n",
    "        max_new_tokens=max_new_tokens,\n",
    "        do_sample=True,\n",
    "        pad_token_id=tokenizer.eos_token_id,\n",
    "    )\n",
    "\n",
    "    print(f\"Generated tokens shape: {generated_ids.shape}\")\n",
    "\n",
    "    decoded = tokenizer.batch_decode(generated_ids)\n",
    "\n",
    "    return decoded[0]"
   ]
  },
  {
   "cell_type": "code",
   "execution_count": 38,
   "metadata": {},
   "outputs": [
    {
     "name": "stdout",
     "output_type": "stream",
     "text": [
      "Example query: Retrieve robot joint values\n",
      "Expected response: {'functions': [{'function_name': 'get_joint_values', 'inputs': []}]}\n"
     ]
    }
   ],
   "source": [
    "query = \"Retrieve robot joint values\"\n",
    "expected_response = (\n",
    "    \"{'functions': [{'function_name': 'get_joint_values', 'inputs': []}]}\"\n",
    ")\n",
    "expected_response = expected_response.replace(\"'\", '\"')\n",
    "print(f\"Example query: {query}\")\n",
    "print(f\"Expected response: {json.loads(expected_response)}\")"
   ]
  },
  {
   "cell_type": "code",
   "execution_count": 39,
   "metadata": {},
   "outputs": [
    {
     "name": "stderr",
     "output_type": "stream",
     "text": [
      "A decoder-only architecture is being used, but right-padding was detected! For correct generation results, please set `padding_side='left'` when initializing the tokenizer.\n"
     ]
    },
    {
     "name": "stdout",
     "output_type": "stream",
     "text": [
      "Tokens shape: torch.Size([1, 47])\n",
      "Generated tokens shape: torch.Size([1, 207])\n"
     ]
    }
   ],
   "source": [
    "prompt = prompt_template.format(query=query)\n",
    "\n",
    "result = get_completion(prompt=prompt, model=model, tokenizer=tokenizer, device=device)"
   ]
  },
  {
   "cell_type": "code",
   "execution_count": 40,
   "metadata": {},
   "outputs": [
    {
     "name": "stdout",
     "output_type": "stream",
     "text": [
      "<s> \n",
      "\n",
      "    [INST]\n",
      "    Translate user queries about industrial robotic operations into JSON outputs for specific function calls.\n",
      "    Retrieve robot joint values\n",
      "    [/INST]\n",
      "\n",
      "\n",
      "    \n",
      "    </s> \":id\": \"1\",\n",
      "    :\"functionName\": \"getRobotJointValues\",\n",
      "    :\"parameters\": {\n",
      "        \"--robotId--\": \"robot1\"\n",
      "     },\n",
      "    :\"outputFormat\": \"application/json\"\n",
      "    }\n",
      "\n",
      "\n",
      "This JSON represents a request for retrieving the current joint values of a specific industrial robot named 'robot1'. This request assumes the existence of a function named 'getRobotJointValues' that can receive the robot identifier as a parameter and return the current joint values as JSON data. The \"--robotId--\" placeholder in the parameters section should be replaced by the actual robot ID. The 'outputFormat' field is used to specify that the response should be returned in JSON format.</s>\n"
     ]
    }
   ],
   "source": [
    "print(result.strip())"
   ]
  },
  {
   "cell_type": "markdown",
   "metadata": {},
   "source": [
    "## Load the dataset\n"
   ]
  },
  {
   "cell_type": "code",
   "execution_count": 121,
   "metadata": {},
   "outputs": [
    {
     "name": "stdout",
     "output_type": "stream",
     "text": [
      "DatasetDict({\n",
      "    train: Dataset({\n",
      "        features: ['data'],\n",
      "        num_rows: 1064\n",
      "    })\n",
      "    test: Dataset({\n",
      "        features: ['data'],\n",
      "        num_rows: 119\n",
      "    })\n",
      "})\n"
     ]
    }
   ],
   "source": [
    "dataset = load_from_disk(dataset_path)\n",
    "print(dataset)"
   ]
  },
  {
   "cell_type": "code",
   "execution_count": 122,
   "metadata": {},
   "outputs": [
    {
     "data": {
      "text/plain": [
       "\"{'functions': [{'function_name': 'get_joint_values', 'inputs': []}]}\""
      ]
     },
     "execution_count": 122,
     "metadata": {},
     "output_type": "execute_result"
    }
   ],
   "source": [
    "dataset[\"train\"][1][\"data\"][\"function_calling\"]"
   ]
  },
  {
   "cell_type": "code",
   "execution_count": 123,
   "metadata": {},
   "outputs": [],
   "source": [
    "def generate_prompt(data_point) -> str:\n",
    "    prefix_text = \"Below is a user query about industrial robotic operations, translate it into JSON outputs for specific function calls.\\n\\n\"\n",
    "    text = f\"\"\"[INST]{prefix_text} {data_point['data']['user_query']} [/INST]{data_point['data']['function_calling']}\"\"\"\n",
    "\n",
    "    return text"
   ]
  },
  {
   "cell_type": "markdown",
   "metadata": {},
   "source": [
    "### Train data\n"
   ]
  },
  {
   "cell_type": "code",
   "execution_count": 124,
   "metadata": {},
   "outputs": [
    {
     "name": "stdout",
     "output_type": "stream",
     "text": [
      "Dataset structure: {'train': ['data', 'prompts'], 'test': ['data']}\n"
     ]
    }
   ],
   "source": [
    "text_column = [generate_prompt(data_point) for data_point in dataset[\"train\"]]\n",
    "dataset[\"train\"] = dataset[\"train\"].add_column(\"prompts\", text_column)\n",
    "print(f\"Dataset structure: {dataset.column_names}\")"
   ]
  },
  {
   "cell_type": "code",
   "execution_count": 125,
   "metadata": {},
   "outputs": [
    {
     "data": {
      "application/vnd.jupyter.widget-view+json": {
       "model_id": "ba6708e688784ec2a72e9c6501e35d5a",
       "version_major": 2,
       "version_minor": 0
      },
      "text/plain": [
       "Map:   0%|          | 0/1064 [00:00<?, ? examples/s]"
      ]
     },
     "metadata": {},
     "output_type": "display_data"
    }
   ],
   "source": [
    "train_dataset = dataset[\"train\"].shuffle(seed=1234)\n",
    "train_dataset = train_dataset.map(\n",
    "    lambda samples: tokenizer(samples[\"prompts\"]), batched=True\n",
    ")"
   ]
  },
  {
   "cell_type": "code",
   "execution_count": 126,
   "metadata": {},
   "outputs": [
    {
     "name": "stdout",
     "output_type": "stream",
     "text": [
      "Train Dataset structure: \n",
      "Dataset({\n",
      "    features: ['data', 'prompts', 'input_ids', 'attention_mask'],\n",
      "    num_rows: 1064\n",
      "})\n"
     ]
    }
   ],
   "source": [
    "print(f\"Train Dataset structure: \\n{train_dataset}\")"
   ]
  },
  {
   "cell_type": "code",
   "execution_count": 127,
   "metadata": {},
   "outputs": [],
   "source": [
    "tokenized_train_set = train_dataset.remove_columns(column_names=[\"data\"])"
   ]
  },
  {
   "cell_type": "markdown",
   "metadata": {},
   "source": [
    "### Validation data\n"
   ]
  },
  {
   "cell_type": "code",
   "execution_count": 128,
   "metadata": {},
   "outputs": [
    {
     "name": "stdout",
     "output_type": "stream",
     "text": [
      "Dataset structure: {'train': ['data', 'prompts'], 'test': ['data', 'prompts']}\n"
     ]
    }
   ],
   "source": [
    "text_column = [generate_prompt(data_point) for data_point in dataset[\"test\"]]\n",
    "dataset[\"test\"] = dataset[\"test\"].add_column(\"prompts\", text_column)\n",
    "print(f\"Dataset structure: {dataset.column_names}\")"
   ]
  },
  {
   "cell_type": "code",
   "execution_count": 129,
   "metadata": {},
   "outputs": [
    {
     "data": {
      "application/vnd.jupyter.widget-view+json": {
       "model_id": "e82e0401fc674e02b3a78be9114b4d84",
       "version_major": 2,
       "version_minor": 0
      },
      "text/plain": [
       "Map:   0%|          | 0/119 [00:00<?, ? examples/s]"
      ]
     },
     "metadata": {},
     "output_type": "display_data"
    }
   ],
   "source": [
    "test_dataset = dataset[\"test\"].shuffle(seed=1234)\n",
    "test_dataset = test_dataset.map(\n",
    "    lambda samples: tokenizer(samples[\"prompts\"]), batched=True\n",
    ")"
   ]
  },
  {
   "cell_type": "code",
   "execution_count": 130,
   "metadata": {},
   "outputs": [
    {
     "name": "stdout",
     "output_type": "stream",
     "text": [
      "Test Dataset structure: \n",
      "Dataset({\n",
      "    features: ['data', 'prompts', 'input_ids', 'attention_mask'],\n",
      "    num_rows: 119\n",
      "})\n"
     ]
    }
   ],
   "source": [
    "print(f\"Test Dataset structure: \\n{test_dataset}\")"
   ]
  },
  {
   "cell_type": "markdown",
   "metadata": {},
   "source": [
    "~~_**Note**: SFTTrainer class when passing datasets will only look for `input_ids` and `attention_mask`._~~\n"
   ]
  },
  {
   "cell_type": "code",
   "execution_count": 131,
   "metadata": {},
   "outputs": [],
   "source": [
    "tokenized_test_set = test_dataset.remove_columns(column_names=[\"data\"])"
   ]
  },
  {
   "cell_type": "markdown",
   "metadata": {},
   "source": [
    "## Apply Lora\n"
   ]
  },
  {
   "cell_type": "code",
   "execution_count": 87,
   "metadata": {},
   "outputs": [
    {
     "name": "stdout",
     "output_type": "stream",
     "text": [
      "Model architecture: \n",
      "MistralForCausalLM(\n",
      "  (model): MistralModel(\n",
      "    (embed_tokens): Embedding(32000, 4096)\n",
      "    (layers): ModuleList(\n",
      "      (0-31): 32 x MistralDecoderLayer(\n",
      "        (self_attn): MistralAttention(\n",
      "          (q_proj): Linear4bit(in_features=4096, out_features=4096, bias=False)\n",
      "          (k_proj): Linear4bit(in_features=4096, out_features=1024, bias=False)\n",
      "          (v_proj): Linear4bit(in_features=4096, out_features=1024, bias=False)\n",
      "          (o_proj): Linear4bit(in_features=4096, out_features=4096, bias=False)\n",
      "          (rotary_emb): MistralRotaryEmbedding()\n",
      "        )\n",
      "        (mlp): MistralMLP(\n",
      "          (gate_proj): Linear4bit(in_features=4096, out_features=14336, bias=False)\n",
      "          (up_proj): Linear4bit(in_features=4096, out_features=14336, bias=False)\n",
      "          (down_proj): Linear4bit(in_features=14336, out_features=4096, bias=False)\n",
      "          (act_fn): SiLU()\n",
      "        )\n",
      "        (input_layernorm): MistralRMSNorm()\n",
      "        (post_attention_layernorm): MistralRMSNorm()\n",
      "      )\n",
      "    )\n",
      "    (norm): MistralRMSNorm()\n",
      "  )\n",
      "  (lm_head): Linear(in_features=4096, out_features=32000, bias=False)\n",
      ")\n"
     ]
    }
   ],
   "source": [
    "model.gradient_checkpointing_enable()\n",
    "model = prepare_model_for_kbit_training(model)\n",
    "print(f\"Model architecture: \\n{model}\")"
   ]
  },
  {
   "cell_type": "code",
   "execution_count": 89,
   "metadata": {},
   "outputs": [
    {
     "data": {
      "text/plain": [
       "transformers.models.mistral.modeling_mistral.MistralForCausalLM"
      ]
     },
     "execution_count": 89,
     "metadata": {},
     "output_type": "execute_result"
    }
   ],
   "source": [
    "type(model)"
   ]
  },
  {
   "cell_type": "markdown",
   "metadata": {},
   "source": [
    "These are the layers that we are going to use for fine-tuning. <br>\n",
    "According to QLoRA paper: <br>\n",
    "_\"We find that the most critical LoRA hyperparameter is how many LoRA adapters are used in total and that LoRA on all linear transformer block layers is required to match full finetuning performance.\"_\n"
   ]
  },
  {
   "cell_type": "code",
   "execution_count": 91,
   "metadata": {},
   "outputs": [],
   "source": [
    "def find_all_linear_names(model) -> list:\n",
    "    cls = bnb.nn.Linear4bit\n",
    "    lora_module_names = set()\n",
    "    for name, module in model.named_modules():\n",
    "        if isinstance(module, cls):\n",
    "            names = name.split(\".\")\n",
    "            lora_module_names.add(names[0] if len(names) == 1 else names[-1])\n",
    "        if \"lm_head\" in lora_module_names:  # Used for 16-bit\n",
    "            lora_module_names.remove(\"lm_head\")\n",
    "    return list(lora_module_names)"
   ]
  },
  {
   "cell_type": "code",
   "execution_count": 92,
   "metadata": {},
   "outputs": [
    {
     "name": "stdout",
     "output_type": "stream",
     "text": [
      "Number of found modules: 7\n",
      "Module names: ['down_proj', 'gate_proj', 'v_proj', 'k_proj', 'o_proj', 'up_proj', 'q_proj']\n"
     ]
    }
   ],
   "source": [
    "modules = find_all_linear_names(model)\n",
    "print(f\"Number of found modules: {len(modules)}\")\n",
    "print(f\"Module names: {modules}\")"
   ]
  },
  {
   "cell_type": "code",
   "execution_count": 93,
   "metadata": {},
   "outputs": [],
   "source": [
    "lora_config = LoraConfig(\n",
    "    r=8,\n",
    "    lora_alpha=32,  # 16\n",
    "    target_modules=modules,\n",
    "    lora_dropout=0.05,\n",
    "    bias=\"none\",\n",
    "    task_type=\"CASUAL_LM\",\n",
    ")\n",
    "\n",
    "model = get_peft_model(model=model, peft_config=lora_config)"
   ]
  },
  {
   "cell_type": "code",
   "execution_count": 100,
   "metadata": {},
   "outputs": [
    {
     "name": "stdout",
     "output_type": "stream",
     "text": [
      "Trainable: 20,971,520 | Total: 7,262,703,616 | Percentage: 0.289%\n"
     ]
    }
   ],
   "source": [
    "trainable, total = model.get_nb_trainable_parameters()\n",
    "print(\n",
    "    f\"Trainable: {trainable:,} | Total: {total:,} | Percentage: {(trainable/total):.3%}\"\n",
    ")"
   ]
  },
  {
   "cell_type": "markdown",
   "metadata": {},
   "source": [
    "## Run the training\n",
    "\n",
    "Fine-Tuning with QLoRA and Supervised Fine-Tuning\n"
   ]
  },
  {
   "cell_type": "code",
   "execution_count": 110,
   "metadata": {},
   "outputs": [],
   "source": [
    "current_time = datetime.now().strftime(\"%Y-%b-%d_%H-%M-%S\")\n",
    "output_dir = f\"./experiments/{current_time}\""
   ]
  },
  {
   "cell_type": "code",
   "execution_count": 142,
   "metadata": {},
   "outputs": [
    {
     "name": "stderr",
     "output_type": "stream",
     "text": [
      "/home/s/.cache/pypoetry/virtualenvs/robot-whisperer-lfIYXQcw-py3.10/lib/python3.10/site-packages/trl/trainer/sft_trainer.py:434: UserWarning: You passed `remove_unused_columns=False` on a non-packed dataset. This might create some issues with the default collator and yield to errors. If you want to inspect dataset other columns (in this case ['prompts']), you can subclass `DataCollatorForLanguageModeling` in case you used the default collator and create your own data collator in order to inspect the unused dataset columns.\n",
      "  warnings.warn(\n"
     ]
    },
    {
     "data": {
      "application/vnd.jupyter.widget-view+json": {
       "model_id": "ddbe1ba5ca68446eaad464e01e0701dd",
       "version_major": 2,
       "version_minor": 0
      },
      "text/plain": [
       "Map:   0%|          | 0/119 [00:00<?, ? examples/s]"
      ]
     },
     "metadata": {},
     "output_type": "display_data"
    }
   ],
   "source": [
    "tokenizer.pad_token = tokenizer.eos_token\n",
    "torch.cuda.empty_cache()\n",
    "\n",
    "trainer = SFTTrainer(\n",
    "    model=model,\n",
    "    train_dataset=tokenized_train_set,\n",
    "    eval_dataset=tokenized_test_set,\n",
    "    dataset_text_field=\"prompts\",\n",
    "    peft_config=lora_config,\n",
    "    args=transformers.TrainingArguments(\n",
    "        num_train_epochs=1,\n",
    "        # max_steps=100 # For testing\n",
    "        per_device_train_batch_size=1,\n",
    "        gradient_accumulation_steps=4,\n",
    "        warmup_ratio=0.03,\n",
    "        learning_rate=3e-4,\n",
    "        logging_steps=1,\n",
    "        output_dir=output_dir,\n",
    "        optim=\"paged_adamw_8bit\",\n",
    "        save_strategy=\"epoch\",\n",
    "        remove_unused_columns=False,\n",
    "    ),\n",
    "    data_collator=transformers.DataCollatorForLanguageModeling(\n",
    "        tokenizer=tokenizer, mlm=False\n",
    "    ),\n",
    ")"
   ]
  },
  {
   "cell_type": "markdown",
   "metadata": {},
   "source": [
    "### Start the training\n"
   ]
  },
  {
   "cell_type": "code",
   "execution_count": 143,
   "metadata": {},
   "outputs": [
    {
     "ename": "ValueError",
     "evalue": "Unable to create tensor, you should probably activate truncation and/or padding with 'padding=True' 'truncation=True' to have batched tensors with the same length. Perhaps your features (`prompts` in this case) have excessive nesting (inputs type `list` where type `int` is expected).",
     "output_type": "error",
     "traceback": [
      "\u001b[0;31m---------------------------------------------------------------------------\u001b[0m",
      "\u001b[0;31mValueError\u001b[0m                                Traceback (most recent call last)",
      "File \u001b[0;32m~/.cache/pypoetry/virtualenvs/robot-whisperer-lfIYXQcw-py3.10/lib/python3.10/site-packages/transformers/tokenization_utils_base.py:748\u001b[0m, in \u001b[0;36mBatchEncoding.convert_to_tensors\u001b[0;34m(self, tensor_type, prepend_batch_axis)\u001b[0m\n\u001b[1;32m    747\u001b[0m \u001b[38;5;28;01mif\u001b[39;00m \u001b[38;5;129;01mnot\u001b[39;00m is_tensor(value):\n\u001b[0;32m--> 748\u001b[0m     tensor \u001b[38;5;241m=\u001b[39m \u001b[43mas_tensor\u001b[49m\u001b[43m(\u001b[49m\u001b[43mvalue\u001b[49m\u001b[43m)\u001b[49m\n\u001b[1;32m    750\u001b[0m     \u001b[38;5;66;03m# Removing this for now in favor of controlling the shape with `prepend_batch_axis`\u001b[39;00m\n\u001b[1;32m    751\u001b[0m     \u001b[38;5;66;03m# # at-least2d\u001b[39;00m\n\u001b[1;32m    752\u001b[0m     \u001b[38;5;66;03m# if tensor.ndim > 2:\u001b[39;00m\n\u001b[1;32m    753\u001b[0m     \u001b[38;5;66;03m#     tensor = tensor.squeeze(0)\u001b[39;00m\n\u001b[1;32m    754\u001b[0m     \u001b[38;5;66;03m# elif tensor.ndim < 2:\u001b[39;00m\n\u001b[1;32m    755\u001b[0m     \u001b[38;5;66;03m#     tensor = tensor[None, :]\u001b[39;00m\n",
      "File \u001b[0;32m~/.cache/pypoetry/virtualenvs/robot-whisperer-lfIYXQcw-py3.10/lib/python3.10/site-packages/transformers/tokenization_utils_base.py:720\u001b[0m, in \u001b[0;36mBatchEncoding.convert_to_tensors.<locals>.as_tensor\u001b[0;34m(value, dtype)\u001b[0m\n\u001b[1;32m    719\u001b[0m     \u001b[38;5;28;01mreturn\u001b[39;00m torch\u001b[38;5;241m.\u001b[39mtensor(np\u001b[38;5;241m.\u001b[39marray(value))\n\u001b[0;32m--> 720\u001b[0m \u001b[38;5;28;01mreturn\u001b[39;00m \u001b[43mtorch\u001b[49m\u001b[38;5;241;43m.\u001b[39;49m\u001b[43mtensor\u001b[49m\u001b[43m(\u001b[49m\u001b[43mvalue\u001b[49m\u001b[43m)\u001b[49m\n",
      "\u001b[0;31mValueError\u001b[0m: too many dimensions 'str'",
      "\nThe above exception was the direct cause of the following exception:\n",
      "\u001b[0;31mValueError\u001b[0m                                Traceback (most recent call last)",
      "Cell \u001b[0;32mIn[143], line 2\u001b[0m\n\u001b[1;32m      1\u001b[0m model\u001b[38;5;241m.\u001b[39mconfig\u001b[38;5;241m.\u001b[39muse_cache \u001b[38;5;241m=\u001b[39m \u001b[38;5;28;01mFalse\u001b[39;00m  \u001b[38;5;66;03m# silence the warnings. Please re-enable for inference!\u001b[39;00m\n\u001b[0;32m----> 2\u001b[0m \u001b[43mtrainer\u001b[49m\u001b[38;5;241;43m.\u001b[39;49m\u001b[43mtrain\u001b[49m\u001b[43m(\u001b[49m\u001b[43m)\u001b[49m\n",
      "File \u001b[0;32m~/.cache/pypoetry/virtualenvs/robot-whisperer-lfIYXQcw-py3.10/lib/python3.10/site-packages/trl/trainer/sft_trainer.py:323\u001b[0m, in \u001b[0;36mSFTTrainer.train\u001b[0;34m(self, *args, **kwargs)\u001b[0m\n\u001b[1;32m    320\u001b[0m \u001b[38;5;28;01mif\u001b[39;00m \u001b[38;5;28mself\u001b[39m\u001b[38;5;241m.\u001b[39mneftune_noise_alpha \u001b[38;5;129;01mis\u001b[39;00m \u001b[38;5;129;01mnot\u001b[39;00m \u001b[38;5;28;01mNone\u001b[39;00m \u001b[38;5;129;01mand\u001b[39;00m \u001b[38;5;129;01mnot\u001b[39;00m \u001b[38;5;28mself\u001b[39m\u001b[38;5;241m.\u001b[39m_trainer_supports_neftune:\n\u001b[1;32m    321\u001b[0m     \u001b[38;5;28mself\u001b[39m\u001b[38;5;241m.\u001b[39mmodel \u001b[38;5;241m=\u001b[39m \u001b[38;5;28mself\u001b[39m\u001b[38;5;241m.\u001b[39m_trl_activate_neftune(\u001b[38;5;28mself\u001b[39m\u001b[38;5;241m.\u001b[39mmodel)\n\u001b[0;32m--> 323\u001b[0m output \u001b[38;5;241m=\u001b[39m \u001b[38;5;28;43msuper\u001b[39;49m\u001b[43m(\u001b[49m\u001b[43m)\u001b[49m\u001b[38;5;241;43m.\u001b[39;49m\u001b[43mtrain\u001b[49m\u001b[43m(\u001b[49m\u001b[38;5;241;43m*\u001b[39;49m\u001b[43margs\u001b[49m\u001b[43m,\u001b[49m\u001b[43m \u001b[49m\u001b[38;5;241;43m*\u001b[39;49m\u001b[38;5;241;43m*\u001b[39;49m\u001b[43mkwargs\u001b[49m\u001b[43m)\u001b[49m\n\u001b[1;32m    325\u001b[0m \u001b[38;5;66;03m# After training we make sure to retrieve back the original forward pass method\u001b[39;00m\n\u001b[1;32m    326\u001b[0m \u001b[38;5;66;03m# for the embedding layer by removing the forward post hook.\u001b[39;00m\n\u001b[1;32m    327\u001b[0m \u001b[38;5;28;01mif\u001b[39;00m \u001b[38;5;28mself\u001b[39m\u001b[38;5;241m.\u001b[39mneftune_noise_alpha \u001b[38;5;129;01mis\u001b[39;00m \u001b[38;5;129;01mnot\u001b[39;00m \u001b[38;5;28;01mNone\u001b[39;00m \u001b[38;5;129;01mand\u001b[39;00m \u001b[38;5;129;01mnot\u001b[39;00m \u001b[38;5;28mself\u001b[39m\u001b[38;5;241m.\u001b[39m_trainer_supports_neftune:\n",
      "File \u001b[0;32m~/.cache/pypoetry/virtualenvs/robot-whisperer-lfIYXQcw-py3.10/lib/python3.10/site-packages/transformers/trainer.py:1537\u001b[0m, in \u001b[0;36mTrainer.train\u001b[0;34m(self, resume_from_checkpoint, trial, ignore_keys_for_eval, **kwargs)\u001b[0m\n\u001b[1;32m   1535\u001b[0m         hf_hub_utils\u001b[38;5;241m.\u001b[39menable_progress_bars()\n\u001b[1;32m   1536\u001b[0m \u001b[38;5;28;01melse\u001b[39;00m:\n\u001b[0;32m-> 1537\u001b[0m     \u001b[38;5;28;01mreturn\u001b[39;00m \u001b[43minner_training_loop\u001b[49m\u001b[43m(\u001b[49m\n\u001b[1;32m   1538\u001b[0m \u001b[43m        \u001b[49m\u001b[43margs\u001b[49m\u001b[38;5;241;43m=\u001b[39;49m\u001b[43margs\u001b[49m\u001b[43m,\u001b[49m\n\u001b[1;32m   1539\u001b[0m \u001b[43m        \u001b[49m\u001b[43mresume_from_checkpoint\u001b[49m\u001b[38;5;241;43m=\u001b[39;49m\u001b[43mresume_from_checkpoint\u001b[49m\u001b[43m,\u001b[49m\n\u001b[1;32m   1540\u001b[0m \u001b[43m        \u001b[49m\u001b[43mtrial\u001b[49m\u001b[38;5;241;43m=\u001b[39;49m\u001b[43mtrial\u001b[49m\u001b[43m,\u001b[49m\n\u001b[1;32m   1541\u001b[0m \u001b[43m        \u001b[49m\u001b[43mignore_keys_for_eval\u001b[49m\u001b[38;5;241;43m=\u001b[39;49m\u001b[43mignore_keys_for_eval\u001b[49m\u001b[43m,\u001b[49m\n\u001b[1;32m   1542\u001b[0m \u001b[43m    \u001b[49m\u001b[43m)\u001b[49m\n",
      "File \u001b[0;32m~/.cache/pypoetry/virtualenvs/robot-whisperer-lfIYXQcw-py3.10/lib/python3.10/site-packages/transformers/trainer.py:1821\u001b[0m, in \u001b[0;36mTrainer._inner_training_loop\u001b[0;34m(self, batch_size, args, resume_from_checkpoint, trial, ignore_keys_for_eval)\u001b[0m\n\u001b[1;32m   1818\u001b[0m     rng_to_sync \u001b[38;5;241m=\u001b[39m \u001b[38;5;28;01mTrue\u001b[39;00m\n\u001b[1;32m   1820\u001b[0m step \u001b[38;5;241m=\u001b[39m \u001b[38;5;241m-\u001b[39m\u001b[38;5;241m1\u001b[39m\n\u001b[0;32m-> 1821\u001b[0m \u001b[38;5;28;01mfor\u001b[39;00m step, inputs \u001b[38;5;129;01min\u001b[39;00m \u001b[38;5;28menumerate\u001b[39m(epoch_iterator):\n\u001b[1;32m   1822\u001b[0m     total_batched_samples \u001b[38;5;241m+\u001b[39m\u001b[38;5;241m=\u001b[39m \u001b[38;5;241m1\u001b[39m\n\u001b[1;32m   1824\u001b[0m     \u001b[38;5;28;01mif\u001b[39;00m \u001b[38;5;28mself\u001b[39m\u001b[38;5;241m.\u001b[39margs\u001b[38;5;241m.\u001b[39minclude_num_input_tokens_seen:\n",
      "File \u001b[0;32m~/.cache/pypoetry/virtualenvs/robot-whisperer-lfIYXQcw-py3.10/lib/python3.10/site-packages/accelerate/data_loader.py:451\u001b[0m, in \u001b[0;36mDataLoaderShard.__iter__\u001b[0;34m(self)\u001b[0m\n\u001b[1;32m    449\u001b[0m \u001b[38;5;66;03m# We iterate one batch ahead to check when we are at the end\u001b[39;00m\n\u001b[1;32m    450\u001b[0m \u001b[38;5;28;01mtry\u001b[39;00m:\n\u001b[0;32m--> 451\u001b[0m     current_batch \u001b[38;5;241m=\u001b[39m \u001b[38;5;28;43mnext\u001b[39;49m\u001b[43m(\u001b[49m\u001b[43mdataloader_iter\u001b[49m\u001b[43m)\u001b[49m\n\u001b[1;32m    452\u001b[0m \u001b[38;5;28;01mexcept\u001b[39;00m \u001b[38;5;167;01mStopIteration\u001b[39;00m:\n\u001b[1;32m    453\u001b[0m     \u001b[38;5;28;01myield\u001b[39;00m\n",
      "File \u001b[0;32m~/.cache/pypoetry/virtualenvs/robot-whisperer-lfIYXQcw-py3.10/lib/python3.10/site-packages/torch/utils/data/dataloader.py:630\u001b[0m, in \u001b[0;36m_BaseDataLoaderIter.__next__\u001b[0;34m(self)\u001b[0m\n\u001b[1;32m    627\u001b[0m \u001b[38;5;28;01mif\u001b[39;00m \u001b[38;5;28mself\u001b[39m\u001b[38;5;241m.\u001b[39m_sampler_iter \u001b[38;5;129;01mis\u001b[39;00m \u001b[38;5;28;01mNone\u001b[39;00m:\n\u001b[1;32m    628\u001b[0m     \u001b[38;5;66;03m# TODO(https://github.com/pytorch/pytorch/issues/76750)\u001b[39;00m\n\u001b[1;32m    629\u001b[0m     \u001b[38;5;28mself\u001b[39m\u001b[38;5;241m.\u001b[39m_reset()  \u001b[38;5;66;03m# type: ignore[call-arg]\u001b[39;00m\n\u001b[0;32m--> 630\u001b[0m data \u001b[38;5;241m=\u001b[39m \u001b[38;5;28;43mself\u001b[39;49m\u001b[38;5;241;43m.\u001b[39;49m\u001b[43m_next_data\u001b[49m\u001b[43m(\u001b[49m\u001b[43m)\u001b[49m\n\u001b[1;32m    631\u001b[0m \u001b[38;5;28mself\u001b[39m\u001b[38;5;241m.\u001b[39m_num_yielded \u001b[38;5;241m+\u001b[39m\u001b[38;5;241m=\u001b[39m \u001b[38;5;241m1\u001b[39m\n\u001b[1;32m    632\u001b[0m \u001b[38;5;28;01mif\u001b[39;00m \u001b[38;5;28mself\u001b[39m\u001b[38;5;241m.\u001b[39m_dataset_kind \u001b[38;5;241m==\u001b[39m _DatasetKind\u001b[38;5;241m.\u001b[39mIterable \u001b[38;5;129;01mand\u001b[39;00m \\\n\u001b[1;32m    633\u001b[0m         \u001b[38;5;28mself\u001b[39m\u001b[38;5;241m.\u001b[39m_IterableDataset_len_called \u001b[38;5;129;01mis\u001b[39;00m \u001b[38;5;129;01mnot\u001b[39;00m \u001b[38;5;28;01mNone\u001b[39;00m \u001b[38;5;129;01mand\u001b[39;00m \\\n\u001b[1;32m    634\u001b[0m         \u001b[38;5;28mself\u001b[39m\u001b[38;5;241m.\u001b[39m_num_yielded \u001b[38;5;241m>\u001b[39m \u001b[38;5;28mself\u001b[39m\u001b[38;5;241m.\u001b[39m_IterableDataset_len_called:\n",
      "File \u001b[0;32m~/.cache/pypoetry/virtualenvs/robot-whisperer-lfIYXQcw-py3.10/lib/python3.10/site-packages/torch/utils/data/dataloader.py:674\u001b[0m, in \u001b[0;36m_SingleProcessDataLoaderIter._next_data\u001b[0;34m(self)\u001b[0m\n\u001b[1;32m    672\u001b[0m \u001b[38;5;28;01mdef\u001b[39;00m \u001b[38;5;21m_next_data\u001b[39m(\u001b[38;5;28mself\u001b[39m):\n\u001b[1;32m    673\u001b[0m     index \u001b[38;5;241m=\u001b[39m \u001b[38;5;28mself\u001b[39m\u001b[38;5;241m.\u001b[39m_next_index()  \u001b[38;5;66;03m# may raise StopIteration\u001b[39;00m\n\u001b[0;32m--> 674\u001b[0m     data \u001b[38;5;241m=\u001b[39m \u001b[38;5;28;43mself\u001b[39;49m\u001b[38;5;241;43m.\u001b[39;49m\u001b[43m_dataset_fetcher\u001b[49m\u001b[38;5;241;43m.\u001b[39;49m\u001b[43mfetch\u001b[49m\u001b[43m(\u001b[49m\u001b[43mindex\u001b[49m\u001b[43m)\u001b[49m  \u001b[38;5;66;03m# may raise StopIteration\u001b[39;00m\n\u001b[1;32m    675\u001b[0m     \u001b[38;5;28;01mif\u001b[39;00m \u001b[38;5;28mself\u001b[39m\u001b[38;5;241m.\u001b[39m_pin_memory:\n\u001b[1;32m    676\u001b[0m         data \u001b[38;5;241m=\u001b[39m _utils\u001b[38;5;241m.\u001b[39mpin_memory\u001b[38;5;241m.\u001b[39mpin_memory(data, \u001b[38;5;28mself\u001b[39m\u001b[38;5;241m.\u001b[39m_pin_memory_device)\n",
      "File \u001b[0;32m~/.cache/pypoetry/virtualenvs/robot-whisperer-lfIYXQcw-py3.10/lib/python3.10/site-packages/torch/utils/data/_utils/fetch.py:54\u001b[0m, in \u001b[0;36m_MapDatasetFetcher.fetch\u001b[0;34m(self, possibly_batched_index)\u001b[0m\n\u001b[1;32m     52\u001b[0m \u001b[38;5;28;01melse\u001b[39;00m:\n\u001b[1;32m     53\u001b[0m     data \u001b[38;5;241m=\u001b[39m \u001b[38;5;28mself\u001b[39m\u001b[38;5;241m.\u001b[39mdataset[possibly_batched_index]\n\u001b[0;32m---> 54\u001b[0m \u001b[38;5;28;01mreturn\u001b[39;00m \u001b[38;5;28;43mself\u001b[39;49m\u001b[38;5;241;43m.\u001b[39;49m\u001b[43mcollate_fn\u001b[49m\u001b[43m(\u001b[49m\u001b[43mdata\u001b[49m\u001b[43m)\u001b[49m\n",
      "File \u001b[0;32m~/.cache/pypoetry/virtualenvs/robot-whisperer-lfIYXQcw-py3.10/lib/python3.10/site-packages/transformers/data/data_collator.py:45\u001b[0m, in \u001b[0;36mDataCollatorMixin.__call__\u001b[0;34m(self, features, return_tensors)\u001b[0m\n\u001b[1;32m     43\u001b[0m     \u001b[38;5;28;01mreturn\u001b[39;00m \u001b[38;5;28mself\u001b[39m\u001b[38;5;241m.\u001b[39mtf_call(features)\n\u001b[1;32m     44\u001b[0m \u001b[38;5;28;01melif\u001b[39;00m return_tensors \u001b[38;5;241m==\u001b[39m \u001b[38;5;124m\"\u001b[39m\u001b[38;5;124mpt\u001b[39m\u001b[38;5;124m\"\u001b[39m:\n\u001b[0;32m---> 45\u001b[0m     \u001b[38;5;28;01mreturn\u001b[39;00m \u001b[38;5;28;43mself\u001b[39;49m\u001b[38;5;241;43m.\u001b[39;49m\u001b[43mtorch_call\u001b[49m\u001b[43m(\u001b[49m\u001b[43mfeatures\u001b[49m\u001b[43m)\u001b[49m\n\u001b[1;32m     46\u001b[0m \u001b[38;5;28;01melif\u001b[39;00m return_tensors \u001b[38;5;241m==\u001b[39m \u001b[38;5;124m\"\u001b[39m\u001b[38;5;124mnp\u001b[39m\u001b[38;5;124m\"\u001b[39m:\n\u001b[1;32m     47\u001b[0m     \u001b[38;5;28;01mreturn\u001b[39;00m \u001b[38;5;28mself\u001b[39m\u001b[38;5;241m.\u001b[39mnumpy_call(features)\n",
      "File \u001b[0;32m~/.cache/pypoetry/virtualenvs/robot-whisperer-lfIYXQcw-py3.10/lib/python3.10/site-packages/transformers/data/data_collator.py:732\u001b[0m, in \u001b[0;36mDataCollatorForLanguageModeling.torch_call\u001b[0;34m(self, examples)\u001b[0m\n\u001b[1;32m    729\u001b[0m \u001b[38;5;28;01mdef\u001b[39;00m \u001b[38;5;21mtorch_call\u001b[39m(\u001b[38;5;28mself\u001b[39m, examples: List[Union[List[\u001b[38;5;28mint\u001b[39m], Any, Dict[\u001b[38;5;28mstr\u001b[39m, Any]]]) \u001b[38;5;241m-\u001b[39m\u001b[38;5;241m>\u001b[39m Dict[\u001b[38;5;28mstr\u001b[39m, Any]:\n\u001b[1;32m    730\u001b[0m     \u001b[38;5;66;03m# Handle dict or lists with proper padding and conversion to tensor.\u001b[39;00m\n\u001b[1;32m    731\u001b[0m     \u001b[38;5;28;01mif\u001b[39;00m \u001b[38;5;28misinstance\u001b[39m(examples[\u001b[38;5;241m0\u001b[39m], Mapping):\n\u001b[0;32m--> 732\u001b[0m         batch \u001b[38;5;241m=\u001b[39m \u001b[38;5;28;43mself\u001b[39;49m\u001b[38;5;241;43m.\u001b[39;49m\u001b[43mtokenizer\u001b[49m\u001b[38;5;241;43m.\u001b[39;49m\u001b[43mpad\u001b[49m\u001b[43m(\u001b[49m\u001b[43mexamples\u001b[49m\u001b[43m,\u001b[49m\u001b[43m \u001b[49m\u001b[43mreturn_tensors\u001b[49m\u001b[38;5;241;43m=\u001b[39;49m\u001b[38;5;124;43m\"\u001b[39;49m\u001b[38;5;124;43mpt\u001b[39;49m\u001b[38;5;124;43m\"\u001b[39;49m\u001b[43m,\u001b[49m\u001b[43m \u001b[49m\u001b[43mpad_to_multiple_of\u001b[49m\u001b[38;5;241;43m=\u001b[39;49m\u001b[38;5;28;43mself\u001b[39;49m\u001b[38;5;241;43m.\u001b[39;49m\u001b[43mpad_to_multiple_of\u001b[49m\u001b[43m)\u001b[49m\n\u001b[1;32m    733\u001b[0m     \u001b[38;5;28;01melse\u001b[39;00m:\n\u001b[1;32m    734\u001b[0m         batch \u001b[38;5;241m=\u001b[39m {\n\u001b[1;32m    735\u001b[0m             \u001b[38;5;124m\"\u001b[39m\u001b[38;5;124minput_ids\u001b[39m\u001b[38;5;124m\"\u001b[39m: _torch_collate_batch(examples, \u001b[38;5;28mself\u001b[39m\u001b[38;5;241m.\u001b[39mtokenizer, pad_to_multiple_of\u001b[38;5;241m=\u001b[39m\u001b[38;5;28mself\u001b[39m\u001b[38;5;241m.\u001b[39mpad_to_multiple_of)\n\u001b[1;32m    736\u001b[0m         }\n",
      "File \u001b[0;32m~/.cache/pypoetry/virtualenvs/robot-whisperer-lfIYXQcw-py3.10/lib/python3.10/site-packages/transformers/tokenization_utils_base.py:3299\u001b[0m, in \u001b[0;36mPreTrainedTokenizerBase.pad\u001b[0;34m(self, encoded_inputs, padding, max_length, pad_to_multiple_of, return_attention_mask, return_tensors, verbose)\u001b[0m\n\u001b[1;32m   3296\u001b[0m             batch_outputs[key] \u001b[38;5;241m=\u001b[39m []\n\u001b[1;32m   3297\u001b[0m         batch_outputs[key]\u001b[38;5;241m.\u001b[39mappend(value)\n\u001b[0;32m-> 3299\u001b[0m \u001b[38;5;28;01mreturn\u001b[39;00m \u001b[43mBatchEncoding\u001b[49m\u001b[43m(\u001b[49m\u001b[43mbatch_outputs\u001b[49m\u001b[43m,\u001b[49m\u001b[43m \u001b[49m\u001b[43mtensor_type\u001b[49m\u001b[38;5;241;43m=\u001b[39;49m\u001b[43mreturn_tensors\u001b[49m\u001b[43m)\u001b[49m\n",
      "File \u001b[0;32m~/.cache/pypoetry/virtualenvs/robot-whisperer-lfIYXQcw-py3.10/lib/python3.10/site-packages/transformers/tokenization_utils_base.py:223\u001b[0m, in \u001b[0;36mBatchEncoding.__init__\u001b[0;34m(self, data, encoding, tensor_type, prepend_batch_axis, n_sequences)\u001b[0m\n\u001b[1;32m    219\u001b[0m     n_sequences \u001b[38;5;241m=\u001b[39m encoding[\u001b[38;5;241m0\u001b[39m]\u001b[38;5;241m.\u001b[39mn_sequences\n\u001b[1;32m    221\u001b[0m \u001b[38;5;28mself\u001b[39m\u001b[38;5;241m.\u001b[39m_n_sequences \u001b[38;5;241m=\u001b[39m n_sequences\n\u001b[0;32m--> 223\u001b[0m \u001b[38;5;28;43mself\u001b[39;49m\u001b[38;5;241;43m.\u001b[39;49m\u001b[43mconvert_to_tensors\u001b[49m\u001b[43m(\u001b[49m\u001b[43mtensor_type\u001b[49m\u001b[38;5;241;43m=\u001b[39;49m\u001b[43mtensor_type\u001b[49m\u001b[43m,\u001b[49m\u001b[43m \u001b[49m\u001b[43mprepend_batch_axis\u001b[49m\u001b[38;5;241;43m=\u001b[39;49m\u001b[43mprepend_batch_axis\u001b[49m\u001b[43m)\u001b[49m\n",
      "File \u001b[0;32m~/.cache/pypoetry/virtualenvs/robot-whisperer-lfIYXQcw-py3.10/lib/python3.10/site-packages/transformers/tokenization_utils_base.py:764\u001b[0m, in \u001b[0;36mBatchEncoding.convert_to_tensors\u001b[0;34m(self, tensor_type, prepend_batch_axis)\u001b[0m\n\u001b[1;32m    759\u001b[0m         \u001b[38;5;28;01mif\u001b[39;00m key \u001b[38;5;241m==\u001b[39m \u001b[38;5;124m\"\u001b[39m\u001b[38;5;124moverflowing_tokens\u001b[39m\u001b[38;5;124m\"\u001b[39m:\n\u001b[1;32m    760\u001b[0m             \u001b[38;5;28;01mraise\u001b[39;00m \u001b[38;5;167;01mValueError\u001b[39;00m(\n\u001b[1;32m    761\u001b[0m                 \u001b[38;5;124m\"\u001b[39m\u001b[38;5;124mUnable to create tensor returning overflowing tokens of different lengths. \u001b[39m\u001b[38;5;124m\"\u001b[39m\n\u001b[1;32m    762\u001b[0m                 \u001b[38;5;124m\"\u001b[39m\u001b[38;5;124mPlease see if a fast version of this tokenizer is available to have this feature available.\u001b[39m\u001b[38;5;124m\"\u001b[39m\n\u001b[1;32m    763\u001b[0m             ) \u001b[38;5;28;01mfrom\u001b[39;00m \u001b[38;5;21;01me\u001b[39;00m\n\u001b[0;32m--> 764\u001b[0m         \u001b[38;5;28;01mraise\u001b[39;00m \u001b[38;5;167;01mValueError\u001b[39;00m(\n\u001b[1;32m    765\u001b[0m             \u001b[38;5;124m\"\u001b[39m\u001b[38;5;124mUnable to create tensor, you should probably activate truncation and/or padding with\u001b[39m\u001b[38;5;124m\"\u001b[39m\n\u001b[1;32m    766\u001b[0m             \u001b[38;5;124m\"\u001b[39m\u001b[38;5;124m \u001b[39m\u001b[38;5;124m'\u001b[39m\u001b[38;5;124mpadding=True\u001b[39m\u001b[38;5;124m'\u001b[39m\u001b[38;5;124m \u001b[39m\u001b[38;5;124m'\u001b[39m\u001b[38;5;124mtruncation=True\u001b[39m\u001b[38;5;124m'\u001b[39m\u001b[38;5;124m to have batched tensors with the same length. Perhaps your\u001b[39m\u001b[38;5;124m\"\u001b[39m\n\u001b[1;32m    767\u001b[0m             \u001b[38;5;124mf\u001b[39m\u001b[38;5;124m\"\u001b[39m\u001b[38;5;124m features (`\u001b[39m\u001b[38;5;132;01m{\u001b[39;00mkey\u001b[38;5;132;01m}\u001b[39;00m\u001b[38;5;124m` in this case) have excessive nesting (inputs type `list` where type `int` is\u001b[39m\u001b[38;5;124m\"\u001b[39m\n\u001b[1;32m    768\u001b[0m             \u001b[38;5;124m\"\u001b[39m\u001b[38;5;124m expected).\u001b[39m\u001b[38;5;124m\"\u001b[39m\n\u001b[1;32m    769\u001b[0m         ) \u001b[38;5;28;01mfrom\u001b[39;00m \u001b[38;5;21;01me\u001b[39;00m\n\u001b[1;32m    771\u001b[0m \u001b[38;5;28;01mreturn\u001b[39;00m \u001b[38;5;28mself\u001b[39m\n",
      "\u001b[0;31mValueError\u001b[0m: Unable to create tensor, you should probably activate truncation and/or padding with 'padding=True' 'truncation=True' to have batched tensors with the same length. Perhaps your features (`prompts` in this case) have excessive nesting (inputs type `list` where type `int` is expected)."
     ]
    }
   ],
   "source": [
    "model.config.use_cache = False  # silence the warnings. Please re-enable for inference!\n",
    "trainer.train()"
   ]
  },
  {
   "cell_type": "code",
   "execution_count": 148,
   "metadata": {},
   "outputs": [
    {
     "data": {
      "text/plain": [
       "[\"[INST]Below is a user query about industrial robotic operations, translate it into JSON outputs for specific function calls.\\n\\n Retrieve robot joints status [/INST]{'functions': [{'function_name': 'get_joint_values', 'inputs': []}]}\",\n",
       " '[INST]Below is a user query about industrial robotic operations, translate it into JSON outputs for specific function calls.\\n\\n Please capitalize where necessary: aldegrever doesn\\'t decidedly copy holbein, but it is apparent that his dance of death is very much inspired by holbein. [/INST]{{\"functions\": [{{\"function_name\": \"\", \"inputs\": []}}]}}',\n",
       " \"[INST]Below is a user query about industrial robotic operations, translate it into JSON outputs for specific function calls.\\n\\n Move the robot TCP to position (500, 300, 700) micrometers [/INST]{'functions': [{'function_name': 'move_tcp', 'inputs': [{'name': 'x', 'value': 500.0, 'unit': 'micrometers'}, {'name': 'y', 'value': 300.0, 'unit': 'micrometers'}, {'name': 'z', 'value': 700.0, 'unit': 'micrometers'}]}]}\",\n",
       " \"[INST]Below is a user query about industrial robotic operations, translate it into JSON outputs for specific function calls.\\n\\n Move TCP to coordinates (0.7, 0, 1) m [/INST]{'functions': [{'function_name': 'move_tcp', 'inputs': [{'name': 'x', 'value': 0.7, 'unit': 'm'}, {'name': 'y', 'value': 0.0, 'unit': 'm'}, {'name': 'z', 'value': 1.0, 'unit': 'm'}]}]}\",\n",
       " \"[INST]Below is a user query about industrial robotic operations, translate it into JSON outputs for specific function calls.\\n\\n Turn joint 1 for 90 degrees [/INST]{'functions': [{'function_name': 'move_joint', 'inputs': [{'name': 'joint', 'value': [0], 'unit': None}, {'name': 'angle', 'value': [90.0], 'unit': 'deg'}]}]}\",\n",
       " '[INST]Below is a user query about industrial robotic operations, translate it into JSON outputs for specific function calls.\\n\\n Totuși, trebuie să rămânem împreună, cu fermitate și uniți.\\n\\nCould you please translate this to English? [/INST]{{\"functions\": [{{\"function_name\": \"\", \"inputs\": []}}]}}',\n",
       " '[INST]Below is a user query about industrial robotic operations, translate it into JSON outputs for specific function calls.\\n\\n Generate a context and a hypothesis. [/INST]{{\"functions\": [{{\"function_name\": \"\", \"inputs\": []}}]}}',\n",
       " '[INST]Below is a user query about industrial robotic operations, translate it into JSON outputs for specific function calls.\\n\\n Come up with a question and reasoning that would justify this answer: yes [/INST]{{\"functions\": [{{\"function_name\": \"\", \"inputs\": []}}]}}',\n",
       " '[INST]Below is a user query about industrial robotic operations, translate it into JSON outputs for specific function calls.\\n\\n Detailed Instructions: You are given a sentence in Portuguese. Your job is to translate the Portuguese sentence into Hebrew.\\nProblem:Foi isso que aprendi em viagem, confiar na memória do corpo, mais do que na memória do cérebro.\\nSolution: [/INST]{{\"functions\": [{{\"function_name\": \"\", \"inputs\": []}}]}}',\n",
       " \"[INST]Below is a user query about industrial robotic operations, translate it into JSON outputs for specific function calls.\\n\\n Move the end-effector to position (0.2, 0.5, 0.6) meters [/INST]{'functions': [{'function_name': 'move_tcp', 'inputs': [{'name': 'x', 'value': 0.2, 'unit': 'm'}, {'name': 'y', 'value': 0.5, 'unit': 'm'}, {'name': 'z', 'value': 0.6, 'unit': 'm'}]}]}\",\n",
       " '[INST]Below is a user query about industrial robotic operations, translate it into JSON outputs for specific function calls.\\n\\n I am an introvert. How can I control my emotions in a better way?\\n\\nHow do I control emotions and reactions in nervousness?\\n\\nPlease tell me if those questions are the same. [/INST]{{\"functions\": [{{\"function_name\": \"\", \"inputs\": []}}]}}',\n",
       " '[INST]Below is a user query about industrial robotic operations, translate it into JSON outputs for specific function calls.\\n\\n oat cookies with chocolate mix without gluten brand name: biological amisa\\nCapitalize this past sentence correctly. [/INST]{{\"functions\": [{{\"function_name\": \"\", \"inputs\": []}}]}}',\n",
       " \"[INST]Below is a user query about industrial robotic operations, translate it into JSON outputs for specific function calls.\\n\\n Turn the second joint by 60 degrees [/INST]{'functions': [{'function_name': 'move_joint', 'inputs': [{'name': 'joint', 'value': [1], 'unit': None}, {'name': 'angle', 'value': [60.0], 'unit': 'deg'}]}]}\",\n",
       " \"[INST]Below is a user query about industrial robotic operations, translate it into JSON outputs for specific function calls.\\n\\n Move the robot TCP to position (0.05, -0.03, 0) meters [/INST]{'functions': [{'function_name': 'move_tcp', 'inputs': [{'name': 'x', 'value': 0.05, 'unit': 'm'}, {'name': 'y', 'value': -0.03, 'unit': 'm'}, {'name': 'z', 'value': 0.0, 'unit': 'm'}]}]}\",\n",
       " \"[INST]Below is a user query about industrial robotic operations, translate it into JSON outputs for specific function calls.\\n\\n Command the robot to move TCP to (450, 300, 250) mm [/INST]{'functions': [{'function_name': 'move_tcp', 'inputs': [{'name': 'x', 'value': 450.0, 'unit': 'mm'}, {'name': 'y', 'value': 300.0, 'unit': 'mm'}, {'name': 'z', 'value': 250.0, 'unit': 'mm'}]}]}\",\n",
       " \"[INST]Below is a user query about industrial robotic operations, translate it into JSON outputs for specific function calls.\\n\\n Rotate joint 3 by 90 degrees [/INST]{'functions': [{'function_name': 'move_joint', 'inputs': [{'name': 'joint', 'value': [2], 'unit': None}, {'name': 'angle', 'value': [90.0], 'unit': 'deg'}]}]}\",\n",
       " \"[INST]Below is a user query about industrial robotic operations, translate it into JSON outputs for specific function calls.\\n\\n Move TCP along the y-axis for 500mm [/INST]{'functions': [{'function_name': 'move_tcp', 'inputs': [{'name': 'y', 'value': 500.0, 'unit': 'mm'}]}]}\",\n",
       " \"[INST]Below is a user query about industrial robotic operations, translate it into JSON outputs for specific function calls.\\n\\n Rotate joint 4 by 90 degrees [/INST]{'functions': [{'function_name': 'move_joint', 'inputs': [{'name': 'joint', 'value': [3], 'unit': None}, {'name': 'angle', 'value': [90.0], 'unit': 'deg'}]}]}\",\n",
       " \"[INST]Below is a user query about industrial robotic operations, translate it into JSON outputs for specific function calls.\\n\\n Provide me with the current joint states of the robot. [/INST]{'functions': [{'function_name': 'get_joint_values', 'inputs': []}]}\",\n",
       " '[INST]Below is a user query about industrial robotic operations, translate it into JSON outputs for specific function calls.\\n\\n Generate a context and a hypothesis. [/INST]{{\"functions\": [{{\"function_name\": \"\", \"inputs\": []}}]}}',\n",
       " \"[INST]Below is a user query about industrial robotic operations, translate it into JSON outputs for specific function calls.\\n\\n Rotate joint 4 by 90 degrees in radians [/INST]{'functions': [{'function_name': 'move_joint', 'inputs': [{'name': 'joint', 'value': [3], 'unit': None}, {'name': 'angle', 'value': [1.5708], 'unit': 'rad'}]}]}\",\n",
       " \"[INST]Below is a user query about industrial robotic operations, translate it into JSON outputs for specific function calls.\\n\\n Move TCP along x-axis for 50mm and rotate base for 45 degrees [/INST]{'functions': [{'function_name': 'move_tcp', 'inputs': [{'name': 'x', 'value': 50.0, 'unit': 'mm'}]}, {'function_name': 'move_joint', 'inputs': [{'name': 'joint', 'value': [0], 'unit': None}, {'name': 'angle', 'value': [45.0], 'unit': 'deg'}]}]}\",\n",
       " \"[INST]Below is a user query about industrial robotic operations, translate it into JSON outputs for specific function calls.\\n\\n Move the robot TCP along the y-axis for 300 mm [/INST]{'functions': [{'function_name': 'move_tcp', 'inputs': [{'name': 'y', 'value': 300.0, 'unit': 'mm'}]}]}\",\n",
       " \"[INST]Below is a user query about industrial robotic operations, translate it into JSON outputs for specific function calls.\\n\\n I want to move the end effector to position (600, 400, 300) mm [/INST]{'functions': [{'function_name': 'move_tcp', 'inputs': [{'name': 'x', 'value': 600.0, 'unit': 'mm'}, {'name': 'y', 'value': 400.0, 'unit': 'mm'}, {'name': 'z', 'value': 300.0, 'unit': 'mm'}]}]}\",\n",
       " '[INST]Below is a user query about industrial robotic operations, translate it into JSON outputs for specific function calls.\\n\\n Translate \"Some sense of this kind of regulatory efficiency might be assessed by comparing countries regulatory approval times but this is not an easy kind of comparison to make because the measures are always input costs or time but these only make sense if they are related to some definition of regulatory effectiveness.\" to French? [/INST]{{\"functions\": [{{\"function_name\": \"\", \"inputs\": []}}]}}',\n",
       " \"[INST]Below is a user query about industrial robotic operations, translate it into JSON outputs for specific function calls.\\n\\n Move robot TCP to coordinates (0.5, 0.3, 0.7) m [/INST]{'functions': [{'function_name': 'move_tcp', 'inputs': [{'name': 'x', 'value': 0.5, 'unit': 'm'}, {'name': 'y', 'value': 0.3, 'unit': 'm'}, {'name': 'z', 'value': 0.7, 'unit': 'm'}]}]}\",\n",
       " \"[INST]Below is a user query about industrial robotic operations, translate it into JSON outputs for specific function calls.\\n\\n Rotate joint 2 by 30 degrees, joint 7 by 45 degrees, and joint 3 by pi/16 radians [/INST]{'functions': [{'function_name': 'move_joint', 'inputs': [{'name': 'joint', 'value': [2, 7], 'unit': None}, {'name': 'angle', 'value': [30.0, 45.0], 'unit': 'deg'}]}, {'function_name': 'move_joint', 'inputs': [{'name': 'joint', 'value': [3], 'unit': None}, {'name': 'angle', 'value': [0.196349], 'unit': 'rad'}]}]}\",\n",
       " \"[INST]Below is a user query about industrial robotic operations, translate it into JSON outputs for specific function calls.\\n\\n Rotate the base of the robot for 90 degrees and move TCP along y axis for 30 millimeters [/INST]{'functions': [{'function_name': 'move_joint', 'inputs': [{'name': 'joint', 'value': [0], 'unit': None}, {'name': 'angle', 'value': [90.0], 'unit': 'deg'}]}, {'function_name': 'move_tcp', 'inputs': [{'name': 'y', 'value': 30.0, 'unit': 'mm'}]}]}\",\n",
       " '[INST]Below is a user query about industrial robotic operations, translate it into JSON outputs for specific function calls.\\n\\n Since my knitting starter class in January , I have mastered only the garter ( knit - only ) stitch , though I did learn the purl stitch also . The headband pattern calls for k1 , p1 , k1 , p1 ( knit one , purl one , knit one , purl one ) , or what is called the seed stitch . My knitting pal Allie helped me with some of the finer details and I made some good progress .\\n\\nQuestion: What may have happened next in their story ? [/INST]{{\"functions\": [{{\"function_name\": \"\", \"inputs\": []}}]}}',\n",
       " \"[INST]Below is a user query about industrial robotic operations, translate it into JSON outputs for specific function calls.\\n\\n Check current robot joints information [/INST]{'functions': [{'function_name': 'get_joint_values', 'inputs': []}]}\",\n",
       " \"[INST]Below is a user query about industrial robotic operations, translate it into JSON outputs for specific function calls.\\n\\n Adjust the third joint by 90 degrees [/INST]{'functions': [{'function_name': 'move_joint', 'inputs': [{'name': 'joint', 'value': [2], 'unit': None}, {'name': 'angle', 'value': [90.0], 'unit': 'deg'}]}]}\",\n",
       " \"[INST]Below is a user query about industrial robotic operations, translate it into JSON outputs for specific function calls.\\n\\n Move the robotic arm along the x-axis for 1000mm [/INST]{'functions': [{'function_name': 'move_tcp', 'inputs': [{'name': 'x', 'value': 1000.0, 'unit': 'mm'}]}]}\",\n",
       " '[INST]Below is a user query about industrial robotic operations, translate it into JSON outputs for specific function calls.\\n\\n Latvia is deeply committed to the United Nations, and to effective multilateralism as a central element of the UN\\'s activities.\\n\\nTranslate to Russian\\n\\nRussian: [/INST]{{\"functions\": [{{\"function_name\": \"\", \"inputs\": []}}]}}',\n",
       " \"[INST]Below is a user query about industrial robotic operations, translate it into JSON outputs for specific function calls.\\n\\n Move robot TCP 100 mm along x-axis [/INST]{'functions': [{'function_name': 'move_tcp', 'inputs': [{'name': 'x', 'value': 100.0, 'unit': 'mm'}]}]}\",\n",
       " \"[INST]Below is a user query about industrial robotic operations, translate it into JSON outputs for specific function calls.\\n\\n Retrieve the current TCP position. [/INST]{'functions': [{'function_name': 'get_tcp_position', 'inputs': []}]}\",\n",
       " \"[INST]Below is a user query about industrial robotic operations, translate it into JSON outputs for specific function calls.\\n\\n Provide me with the current angles of all robot joints [/INST]{'functions': [{'function_name': 'get_joint_values', 'inputs': []}]}\",\n",
       " \"[INST]Below is a user query about industrial robotic operations, translate it into JSON outputs for specific function calls.\\n\\n Rotate joint 5 for -90 degrees and joint 3 for 45 degrees [/INST]{'functions': [{'function_name': 'move_joint', 'inputs': [{'name': 'joint', 'value': [4], 'unit': None}, {'name': 'angle', 'value': [-90.0], 'unit': 'deg'}]}, {'function_name': 'move_joint', 'inputs': [{'name': 'joint', 'value': [2], 'unit': None}, {'name': 'angle', 'value': [45.0], 'unit': 'deg'}]}]}\",\n",
       " \"[INST]Below is a user query about industrial robotic operations, translate it into JSON outputs for specific function calls.\\n\\n Provide me with the current joint angles of the robot arm. [/INST]{'functions': [{'function_name': 'get_joint_values', 'inputs': []}]}\",\n",
       " \"[INST]Below is a user query about industrial robotic operations, translate it into JSON outputs for specific function calls.\\n\\n Rotate the second joint by -45 degrees [/INST]{'functions': [{'function_name': 'move_joint', 'inputs': [{'name': 'joint', 'value': [1], 'unit': None}, {'name': 'angle', 'value': [-45.0], 'unit': 'deg'}]}]}\",\n",
       " '[INST]Below is a user query about industrial robotic operations, translate it into JSON outputs for specific function calls.\\n\\n Write a tweet that is positive. [/INST]{{\"functions\": [{{\"function_name\": \"\", \"inputs\": []}}]}}',\n",
       " \"[INST]Below is a user query about industrial robotic operations, translate it into JSON outputs for specific function calls.\\n\\n Give me information about the robot's current joint values [/INST]{'functions': [{'function_name': 'get_joint_values', 'inputs': []}]}\",\n",
       " \"[INST]Below is a user query about industrial robotic operations, translate it into JSON outputs for specific function calls.\\n\\n Adjust joint 1 to -45 degrees [/INST]{'functions': [{'function_name': 'move_joint', 'inputs': [{'name': 'joint', 'value': [0], 'unit': None}, {'name': 'angle', 'value': [-45.0], 'unit': 'deg'}]}]}\",\n",
       " \"[INST]Below is a user query about industrial robotic operations, translate it into JSON outputs for specific function calls.\\n\\n Change robot TCP position to (0, -0.3, 0.5) m [/INST]{'functions': [{'function_name': 'move_tcp', 'inputs': [{'name': 'x', 'value': 0.0, 'unit': 'm'}, {'name': 'y', 'value': -0.3, 'unit': 'm'}, {'name': 'z', 'value': 0.5, 'unit': 'm'}]}]}\",\n",
       " \"[INST]Below is a user query about industrial robotic operations, translate it into JSON outputs for specific function calls.\\n\\n Obtain the current status of all robot joints [/INST]{'functions': [{'function_name': 'get_joint_values', 'inputs': []}]}\",\n",
       " \"[INST]Below is a user query about industrial robotic operations, translate it into JSON outputs for specific function calls.\\n\\n Shift TCP along the z-axis for 50mm [/INST]{'functions': [{'function_name': 'move_tcp', 'inputs': [{'name': 'z', 'value': 50.0, 'unit': 'mm'}]}]}\",\n",
       " \"[INST]Below is a user query about industrial robotic operations, translate it into JSON outputs for specific function calls.\\n\\n Perform a joint calibration of the robot [/INST]{'functions': [{'function_name': 'perform_calibration', 'inputs': []}]}\",\n",
       " '[INST]Below is a user query about industrial robotic operations, translate it into JSON outputs for specific function calls.\\n\\n Given the sentence \"A guy in boarding shorts is trying to do a flip or handstand on the beach.\" is it true that \"The man is touching the water.\"? Let\\'s be accurate as possible and think first. [/INST]{{\"functions\": [{{\"function_name\": \"\", \"inputs\": []}}]}}',\n",
       " \"[INST]Below is a user query about industrial robotic operations, translate it into JSON outputs for specific function calls.\\n\\n Adjust the robot's TCP to position (0.6, 0.8, 0.9) meters [/INST]{'functions': [{'function_name': 'move_tcp', 'inputs': [{'name': 'x', 'value': 0.6, 'unit': 'm'}, {'name': 'y', 'value': 0.8, 'unit': 'm'}, {'name': 'z', 'value': 0.9, 'unit': 'm'}]}]}\",\n",
       " '[INST]Below is a user query about industrial robotic operations, translate it into JSON outputs for specific function calls.\\n\\n Detailed Instructions: Given a comment text in Tamil, classify the comment into one of these categories (i) Hope speech, if it contains encouraging, positive or supportive contents about equality, diversity or inclusion, (ii) Not Hope Speech or (iii) Not in Expected Language, if the text is not Tamil.\\nProblem:E ad and selling our personal database and like tik tok 7\\nSolution: [/INST]{{\"functions\": [{{\"function_name\": \"\", \"inputs\": []}}]}}',\n",
       " \"[INST]Below is a user query about industrial robotic operations, translate it into JSON outputs for specific function calls.\\n\\n Modify angle of joint 4 to 60 degrees [/INST]{'functions': [{'function_name': 'move_joint', 'inputs': [{'name': 'joint', 'value': [3], 'unit': None}, {'name': 'angle', 'value': [60.0], 'unit': 'deg'}]}]}\",\n",
       " \"[INST]Below is a user query about industrial robotic operations, translate it into JSON outputs for specific function calls.\\n\\n Rotate joint 5 and move TCP along x-axis for 200 mm [/INST]{'functions': [{'function_name': 'move_joint', 'inputs': [{'name': 'joint', 'value': [4], 'unit': None}, {'name': 'angle', 'value': [0], 'unit': 'deg'}]}, {'function_name': 'move_tcp', 'inputs': [{'name': 'x', 'value': 200.0, 'unit': 'mm'}]}]}\",\n",
       " \"[INST]Below is a user query about industrial robotic operations, translate it into JSON outputs for specific function calls.\\n\\n Move robot TCP to (0.7, 0.4, 0.8) meters and rotate joint 2 by 30 degrees [/INST]{'functions': [{'function_name': 'move_tcp', 'inputs': [{'name': 'x', 'value': 0.7, 'unit': 'm'}, {'name': 'y', 'value': 0.4, 'unit': 'm'}, {'name': 'z', 'value': 0.8, 'unit': 'm'}]}, {'function_name': 'move_joint', 'inputs': [{'name': 'joint', 'value': [1], 'unit': None}, {'name': 'angle', 'value': [30.0], 'unit': 'deg'}]}]}\",\n",
       " \"[INST]Below is a user query about industrial robotic operations, translate it into JSON outputs for specific function calls.\\n\\n Retrieve the current joint positions of the robot [/INST]{'functions': [{'function_name': 'get_joint_values', 'inputs': []}]}\",\n",
       " \"[INST]Below is a user query about industrial robotic operations, translate it into JSON outputs for specific function calls.\\n\\n Move the robot's end effector along the x-axis by 50 mm [/INST]{'functions': [{'function_name': 'move_tcp', 'inputs': [{'name': 'x', 'value': 50.0, 'unit': 'mm'}]}]}\",\n",
       " \"[INST]Below is a user query about industrial robotic operations, translate it into JSON outputs for specific function calls.\\n\\n Move robot TCP horizontally by 50 mm and vertically by -30 mm [/INST]{'functions': [{'function_name': 'move_tcp', 'inputs': [{'name': 'x', 'value': 50.0, 'unit': 'mm'}, {'name': 'y', 'value': -30.0, 'unit': 'mm'}]}]}\",\n",
       " \"[INST]Below is a user query about industrial robotic operations, translate it into JSON outputs for specific function calls.\\n\\n Move the robot's TCP to coordinates (0.5, 0.3, 0.7) meters. [/INST]{'functions': [{'function_name': 'move_tcp', 'inputs': [{'name': 'x', 'value': 0.5, 'unit': 'm'}, {'name': 'y', 'value': 0.3, 'unit': 'm'}, {'name': 'z', 'value': 0.7, 'unit': 'm'}]}]}\",\n",
       " '[INST]Below is a user query about industrial robotic operations, translate it into JSON outputs for specific function calls.\\n\\n Answer the following question: Here\\'s a complex question that requires someone to reason about the input, can you answer it? What administration did Mark Everson work for after American statesman and actor Ronald Reagan left office?\\nAnswer: [/INST]{{\"functions\": [{{\"function_name\": \"\", \"inputs\": []}}]}}',\n",
       " \"[INST]Below is a user query about industrial robotic operations, translate it into JSON outputs for specific function calls.\\n\\n Rotate joint 4 for 60 degrees and joint 6 for -45 degrees [/INST]{'functions': [{'function_name': 'move_joint', 'inputs': [{'name': 'joint', 'value': [3, 5], 'unit': None}, {'name': 'angle', 'value': [60.0, -45.0], 'unit': 'deg'}]}]}\",\n",
       " \"[INST]Below is a user query about industrial robotic operations, translate it into JSON outputs for specific function calls.\\n\\n Fetch the current state of the robot joints [/INST]{'functions': [{'function_name': 'get_joint_values', 'inputs': []}]}\",\n",
       " \"[INST]Below is a user query about industrial robotic operations, translate it into JSON outputs for specific function calls.\\n\\n Request for robot joint status [/INST]{'functions': [{'function_name': 'get_joint_values', 'inputs': []}]}\",\n",
       " \"[INST]Below is a user query about industrial robotic operations, translate it into JSON outputs for specific function calls.\\n\\n Move robot sixth joint for -30 degrees [/INST]{'functions': [{'function_name': 'move_joint', 'inputs': [{'name': 'joint', 'value': [5], 'unit': None}, {'name': 'angle', 'value': [-30.0], 'unit': 'deg'}]}]}\",\n",
       " \"[INST]Below is a user query about industrial robotic operations, translate it into JSON outputs for specific function calls.\\n\\n Turn joint number 3 by -45 degrees [/INST]{'functions': [{'function_name': 'move_joint', 'inputs': [{'name': 'joint', 'value': [2], 'unit': None}, {'name': 'angle', 'value': [-45.0], 'unit': 'deg'}]}]}\",\n",
       " '[INST]Below is a user query about industrial robotic operations, translate it into JSON outputs for specific function calls.\\n\\n Given this review: \"Good app\" Would you recommend this app to a friend? Not at all, No, Maybe, Yes, or Definitely?\\nAnswer: [/INST]{{\"functions\": [{{\"function_name\": \"\", \"inputs\": []}}]}}',\n",
       " \"[INST]Below is a user query about industrial robotic operations, translate it into JSON outputs for specific function calls.\\n\\n Give me details about the robot's joint angles [/INST]{'functions': [{'function_name': 'get_joint_values', 'inputs': []}]}\",\n",
       " \"[INST]Below is a user query about industrial robotic operations, translate it into JSON outputs for specific function calls.\\n\\n Rotate the robot base by 90 degrees and move TCP along x axis for 50 millimeters [/INST]{'functions': [{'function_name': 'move_joint', 'inputs': [{'name': 'joint', 'value': [0], 'unit': None}, {'name': 'angle', 'value': [90.0], 'unit': 'deg'}]}, {'function_name': 'move_tcp', 'inputs': [{'name': 'x', 'value': 50.0, 'unit': 'mm'}]}]}\",\n",
       " '[INST]Below is a user query about industrial robotic operations, translate it into JSON outputs for specific function calls.\\n\\n How might one describe the sentiment of this review?\\nThe jury is out on the service department at the Mesa camping world. They just opened recently so they deserve a break. My first several encounters are not extremely positive but I expect that will turn around I hope...Select from: [I] negative. [II] positive. I think the answer is [/INST]{{\"functions\": [{{\"function_name\": \"\", \"inputs\": []}}]}}',\n",
       " '[INST]Below is a user query about industrial robotic operations, translate it into JSON outputs for specific function calls.\\n\\n Translate the following sentence to Russian:\\nIt was a mini-suite really - a lounge adjoining the terrace which had a jacuzzi & loungers, the large separate bathroom, and the very comfy queen size bed in the bedroom.\\n\\nRussian: [/INST]{{\"functions\": [{{\"function_name\": \"\", \"inputs\": []}}]}}',\n",
       " \"[INST]Below is a user query about industrial robotic operations, translate it into JSON outputs for specific function calls.\\n\\n Instruct the robot to move TCP to new coordinates (0.7, -0.2, 1.0) m [/INST]{'functions': [{'function_name': 'move_tcp', 'inputs': [{'name': 'x', 'value': 0.7, 'unit': 'm'}, {'name': 'y', 'value': -0.2, 'unit': 'm'}, {'name': 'z', 'value': 1.0, 'unit': 'm'}]}]}\",\n",
       " '[INST]Below is a user query about industrial robotic operations, translate it into JSON outputs for specific function calls.\\n\\n Solve 0 = -2733*n - 412*n + 62900 for n.. What is the answer?? [/INST]{{\"functions\": [{{\"function_name\": \"\", \"inputs\": []}}]}}',\n",
       " \"[INST]Below is a user query about industrial robotic operations, translate it into JSON outputs for specific function calls.\\n\\n Move TCP in the x direction for 20mm and in the y direction for 30mm [/INST]{'functions': [{'function_name': 'move_tcp', 'inputs': [{'name': 'x', 'value': 20.0, 'unit': 'mm'}, {'name': 'y', 'value': 30.0, 'unit': 'mm'}]}]}\",\n",
       " \"[INST]Below is a user query about industrial robotic operations, translate it into JSON outputs for specific function calls.\\n\\n Set TCP to position (0.3, 0.6, 0.9) m [/INST]{'functions': [{'function_name': 'move_tcp', 'inputs': [{'name': 'x', 'value': 0.3, 'unit': 'm'}, {'name': 'y', 'value': 0.6, 'unit': 'm'}, {'name': 'z', 'value': 0.9, 'unit': 'm'}]}]}\",\n",
       " \"[INST]Below is a user query about industrial robotic operations, translate it into JSON outputs for specific function calls.\\n\\n Obtain information about robot joints [/INST]{'functions': [{'function_name': 'get_joint_values', 'inputs': []}]}\",\n",
       " \"[INST]Below is a user query about industrial robotic operations, translate it into JSON outputs for specific function calls.\\n\\n Move TCP to (300, 200, 100) mm [/INST]{'functions': [{'function_name': 'move_tcp', 'inputs': [{'name': 'x', 'value': 300.0, 'unit': 'mm'}, {'name': 'y', 'value': 200.0, 'unit': 'mm'}, {'name': 'z', 'value': 100.0, 'unit': 'mm'}]}]}\",\n",
       " '[INST]Below is a user query about industrial robotic operations, translate it into JSON outputs for specific function calls.\\n\\n Question: In darts, which score is called \\'bed and breakfast\\'?\\nAnswer: [/INST]{{\"functions\": [{{\"function_name\": \"\", \"inputs\": []}}]}}',\n",
       " \"[INST]Below is a user query about industrial robotic operations, translate it into JSON outputs for specific function calls.\\n\\n Please rotate joints 2 and 4 by 45 degrees each in clockwise direction [/INST]{'functions': [{'function_name': 'move_joint', 'inputs': [{'name': 'joint', 'value': [1, 3], 'unit': None}, {'name': 'angle', 'value': [45.0, 45.0], 'unit': 'deg'}]}]}\",\n",
       " \"[INST]Below is a user query about industrial robotic operations, translate it into JSON outputs for specific function calls.\\n\\n Translate TCP to (0.6, 0.9, 1.2) meters [/INST]{'functions': [{'function_name': 'move_tcp', 'inputs': [{'name': 'x', 'value': 0.6, 'unit': 'm'}, {'name': 'y', 'value': 0.9, 'unit': 'm'}, {'name': 'z', 'value': 1.2, 'unit': 'm'}]}]}\",\n",
       " \"[INST]Below is a user query about industrial robotic operations, translate it into JSON outputs for specific function calls.\\n\\n Alter the joint angles to 30 degrees, -45 degrees, and 60 degrees for joints 1, 2, and 6 respectively [/INST]{'functions': [{'function_name': 'move_joint', 'inputs': [{'name': 'joint', 'value': [0, 1, 5], 'unit': None}, {'name': 'angle', 'value': [30.0, -45.0, 60.0], 'unit': 'deg'}]}]}\",\n",
       " \"[INST]Below is a user query about industrial robotic operations, translate it into JSON outputs for specific function calls.\\n\\n Retrieve information about robot joints [/INST]{'functions': [{'function_name': 'get_joint_values', 'inputs': []}]}\",\n",
       " \"[INST]Below is a user query about industrial robotic operations, translate it into JSON outputs for specific function calls.\\n\\n Adjust TCP position to (0.45, 0.25, 0.6) m [/INST]{'functions': [{'function_name': 'move_tcp', 'inputs': [{'name': 'x', 'value': 0.45, 'unit': 'm'}, {'name': 'y', 'value': 0.25, 'unit': 'm'}, {'name': 'z', 'value': 0.6, 'unit': 'm'}]}]}\",\n",
       " \"[INST]Below is a user query about industrial robotic operations, translate it into JSON outputs for specific function calls.\\n\\n Get the current robot joint values [/INST]{'functions': [{'function_name': 'get_joint_values', 'inputs': []}]}\",\n",
       " \"[INST]Below is a user query about industrial robotic operations, translate it into JSON outputs for specific function calls.\\n\\n Rotate the third joint by -60 degrees [/INST]{'functions': [{'function_name': 'move_joint', 'inputs': [{'name': 'joint', 'value': [2], 'unit': None}, {'name': 'angle', 'value': [-60.0], 'unit': 'deg'}]}]}\",\n",
       " '[INST]Below is a user query about industrial robotic operations, translate it into JSON outputs for specific function calls.\\n\\n Premise: Subject to the provisions of section 417, the Administrator shall allocate allowances for each affected unit at an affected source annually, as provided in paragraphs\\n\\nHypothesis: The Administrator has no power to allocate allowances.\\n\\nDoes the premise entail the hypothesis?\\n\\nPick your answer from:\\n(a). yes;\\n(b). it is not possible to tell;\\n(c). no; [/INST]{{\"functions\": [{{\"function_name\": \"\", \"inputs\": []}}]}}',\n",
       " \"[INST]Below is a user query about industrial robotic operations, translate it into JSON outputs for specific function calls.\\n\\n Adjust joint angles: Joint 1=60 degrees, Joint 4=-30 degrees. [/INST]{'functions': [{'function_name': 'move_joint', 'inputs': [{'name': 'joint', 'value': [0, 3], 'unit': None}, {'name': 'angle', 'value': [60.0, -30.0], 'unit': 'deg'}]}]}\",\n",
       " \"[INST]Below is a user query about industrial robotic operations, translate it into JSON outputs for specific function calls.\\n\\n I want to move the end effector along the x-axis for 500 mm [/INST]{'functions': [{'function_name': 'move_tcp', 'inputs': [{'name': 'x', 'value': 500.0, 'unit': 'mm'}]}]}\",\n",
       " \"[INST]Below is a user query about industrial robotic operations, translate it into JSON outputs for specific function calls.\\n\\n Move TCP to position (300, 150, 200) in millimeters [/INST]{'functions': [{'function_name': 'move_tcp', 'inputs': [{'name': 'x', 'value': 300.0, 'unit': 'mm'}, {'name': 'y', 'value': 150.0, 'unit': 'mm'}, {'name': 'z', 'value': 200.0, 'unit': 'mm'}]}]}\",\n",
       " '[INST]Below is a user query about industrial robotic operations, translate it into JSON outputs for specific function calls.\\n\\n Question: Process: - Coal is burned in a boiler - Steam is produced under pressure - Flows into a turbine - The turbine spins - Creates electricity.  Question: suppose the turbine will spin at a more slower pace happens, how will it affect LESS electricity being produced.  How does the supposed perturbation influence the second effect mentioned. Answer by more, less or no effect\\nAnswer: [/INST]{{\"functions\": [{{\"function_name\": \"\", \"inputs\": []}}]}}',\n",
       " \"[INST]Below is a user query about industrial robotic operations, translate it into JSON outputs for specific function calls.\\n\\n Rotate the third joint by -30 degrees [/INST]{'functions': [{'function_name': 'move_joint', 'inputs': [{'name': 'joint', 'value': [2], 'unit': None}, {'name': 'angle', 'value': [-30.0], 'unit': 'deg'}]}]}\",\n",
       " \"[INST]Below is a user query about industrial robotic operations, translate it into JSON outputs for specific function calls.\\n\\n I want you to rotate joint 2 for 30 and joint 7 for 45 degrees then joint 3 for pi/4 [/INST]{'query': 'I want you to rotate joint 2 for 30 and joint 7 for 45 degrees then joint 3 for pi/4', 'functions': [{'function_name': 'move_joint', 'inputs': [{'name': 'joint', 'value': [2, 7], 'unit': None}, {'name': 'angle', 'value': [30.0, 45.0], 'unit': 'deg'}]}, {'function_name': 'move_joint', 'inputs': [{'name': 'joint', 'value': [3], 'unit': None}, {'name': 'angle', 'value': [0.785398], 'unit': 'rad'}]}]}\",\n",
       " \"[INST]Below is a user query about industrial robotic operations, translate it into JSON outputs for specific function calls.\\n\\n Retrieve robot joint statuses [/INST]{'functions': [{'function_name': 'get_joint_values', 'inputs': []}]}\",\n",
       " \"[INST]Below is a user query about industrial robotic operations, translate it into JSON outputs for specific function calls.\\n\\n Rotate joint 2 for 45 degrees [/INST]{'functions': [{'function_name': 'move_joint', 'inputs': [{'name': 'joint', 'value': [2], 'unit': None}, {'name': 'angle', 'value': [45.0], 'unit': 'deg'}]}]}\",\n",
       " \"[INST]Below is a user query about industrial robotic operations, translate it into JSON outputs for specific function calls.\\n\\n Command the robot to translate 200 mm along the z-axis [/INST]{'functions': [{'function_name': 'move_tcp', 'inputs': [{'name': 'z', 'value': 200.0, 'unit': 'mm'}]}]}\",\n",
       " \"[INST]Below is a user query about industrial robotic operations, translate it into JSON outputs for specific function calls.\\n\\n Move the sixth joint of the robot by -30 degrees [/INST]{'functions': [{'function_name': 'move_joint', 'inputs': [{'name': 'joint', 'value': [5], 'unit': None}, {'name': 'angle', 'value': [-30.0], 'unit': 'deg'}]}]}\",\n",
       " \"[INST]Below is a user query about industrial robotic operations, translate it into JSON outputs for specific function calls.\\n\\n Rotate joint 5 by -30 degrees [/INST]{'functions': [{'function_name': 'move_joint', 'inputs': [{'name': 'joint', 'value': [4], 'unit': None}, {'name': 'angle', 'value': [-30.0], 'unit': 'deg'}]}]}\",\n",
       " \"[INST]Below is a user query about industrial robotic operations, translate it into JSON outputs for specific function calls.\\n\\n Move the end-effector to (0, 0.4, 0.1) m [/INST]{'functions': [{'function_name': 'move_tcp', 'inputs': [{'name': 'x', 'value': 0.0, 'unit': 'm'}, {'name': 'y', 'value': 0.4, 'unit': 'm'}, {'name': 'z', 'value': 0.1, 'unit': 'm'}]}]}\",\n",
       " \"[INST]Below is a user query about industrial robotic operations, translate it into JSON outputs for specific function calls.\\n\\n Turn joint 4 by -60 degrees [/INST]{'functions': [{'function_name': 'move_joint', 'inputs': [{'name': 'joint', 'value': [3], 'unit': None}, {'name': 'angle', 'value': [-60.0], 'unit': 'deg'}]}]}\",\n",
       " \"[INST]Below is a user query about industrial robotic operations, translate it into JSON outputs for specific function calls.\\n\\n Alter the joint positions to [-90, 45, -135] degrees [/INST]{'functions': [{'function_name': 'move_joint', 'inputs': [{'name': 'joint', 'value': [0, 1, 2], 'unit': None}, {'name': 'angle', 'value': [-90.0, 45.0, -135.0], 'unit': 'deg'}]}]}\",\n",
       " \"[INST]Below is a user query about industrial robotic operations, translate it into JSON outputs for specific function calls.\\n\\n Can you please rotate the second joint by 90 degrees? [/INST]{'functions': [{'function_name': 'move_joint', 'inputs': [{'name': 'joint', 'value': [1], 'unit': None}, {'name': 'angle', 'value': [90.0], 'unit': 'deg'}]}]}\",\n",
       " \"[INST]Below is a user query about industrial robotic operations, translate it into JSON outputs for specific function calls.\\n\\n Move robot along x, y, and z directions by 1000 mm [/INST]{'functions': [{'function_name': 'move_tcp', 'inputs': [{'name': 'x', 'value': 1000.0, 'unit': 'mm'}, {'name': 'y', 'value': 1000.0, 'unit': 'mm'}, {'name': 'z', 'value': 1000.0, 'unit': 'mm'}]}]}\",\n",
       " \"[INST]Below is a user query about industrial robotic operations, translate it into JSON outputs for specific function calls.\\n\\n Rotate joint 6 by 60 degrees and joint 4 by π/3 [/INST]{'functions': [{'function_name': 'move_joint', 'inputs': [{'name': 'joint', 'value': [5, 3], 'unit': None}, {'name': 'angle', 'value': [60.0, 1.0471975511965976], 'unit': 'deg'}]}]}\",\n",
       " \"[INST]Below is a user query about industrial robotic operations, translate it into JSON outputs for specific function calls.\\n\\n Adjust TCP position to (500, -200, 300) mm [/INST]{'functions': [{'function_name': 'move_tcp', 'inputs': [{'name': 'x', 'value': 500.0, 'unit': 'mm'}, {'name': 'y', 'value': -200.0, 'unit': 'mm'}, {'name': 'z', 'value': 300.0, 'unit': 'mm'}]}]}\",\n",
       " \"[INST]Below is a user query about industrial robotic operations, translate it into JSON outputs for specific function calls.\\n\\n Change the orientation of joint 5 by 60 degrees [/INST]{'functions': [{'function_name': 'move_joint', 'inputs': [{'name': 'joint', 'value': [4], 'unit': None}, {'name': 'angle', 'value': [60.0], 'unit': 'deg'}]}]}\",\n",
       " \"[INST]Below is a user query about industrial robotic operations, translate it into JSON outputs for specific function calls.\\n\\n Request the current status of robot joints [/INST]{'functions': [{'function_name': 'get_joint_values', 'inputs': []}]}\",\n",
       " \"[INST]Below is a user query about industrial robotic operations, translate it into JSON outputs for specific function calls.\\n\\n Retrieve current status of robot joints [/INST]{'functions': [{'function_name': 'get_joint_values', 'inputs': []}]}\",\n",
       " \"[INST]Below is a user query about industrial robotic operations, translate it into JSON outputs for specific function calls.\\n\\n Get the status of robot end effector [/INST]{'functions': [{'function_name': 'get_joint_values', 'inputs': []}]}\",\n",
       " \"[INST]Below is a user query about industrial robotic operations, translate it into JSON outputs for specific function calls.\\n\\n Retrieve the current status of robot joints [/INST]{'functions': [{'function_name': 'get_joint_values', 'inputs': []}]}\",\n",
       " \"[INST]Below is a user query about industrial robotic operations, translate it into JSON outputs for specific function calls.\\n\\n Adjust robot joint 4 to -180 degrees [/INST]{'functions': [{'function_name': 'move_joint', 'inputs': [{'name': 'joint', 'value': [3], 'unit': None}, {'name': 'angle', 'value': [-180.0], 'unit': 'deg'}]}]}\",\n",
       " \"[INST]Below is a user query about industrial robotic operations, translate it into JSON outputs for specific function calls.\\n\\n Request robot joint positions [/INST]{'functions': [{'function_name': 'get_joint_values', 'inputs': []}]}\",\n",
       " \"[INST]Below is a user query about industrial robotic operations, translate it into JSON outputs for specific function calls.\\n\\n Inspect the current robot joint configuration [/INST]{'functions': [{'function_name': 'get_joint_values', 'inputs': []}]}\",\n",
       " \"[INST]Below is a user query about industrial robotic operations, translate it into JSON outputs for specific function calls.\\n\\n Increase the angle of joint 4 by 30 degrees [/INST]{'functions': [{'function_name': 'move_joint', 'inputs': [{'name': 'joint', 'value': [3], 'unit': None}, {'name': 'angle', 'value': [30.0], 'unit': 'deg'}]}]}\",\n",
       " \"[INST]Below is a user query about industrial robotic operations, translate it into JSON outputs for specific function calls.\\n\\n Provide me with robot joints information [/INST]{'functions': [{'function_name': 'get_joint_values', 'inputs': []}]}\",\n",
       " \"[INST]Below is a user query about industrial robotic operations, translate it into JSON outputs for specific function calls.\\n\\n Move the robot TCP to (0.3, 0.5, 0.7) centimeters [/INST]{'functions': [{'function_name': 'move_tcp', 'inputs': [{'name': 'x', 'value': 0.3, 'unit': 'cm'}, {'name': 'y', 'value': 0.5, 'unit': 'cm'}, {'name': 'z', 'value': 0.7, 'unit': 'cm'}]}]}\",\n",
       " \"[INST]Below is a user query about industrial robotic operations, translate it into JSON outputs for specific function calls.\\n\\n What are the current values of robot joints? [/INST]{'functions': [{'function_name': 'get_joint_values', 'inputs': []}]}\",\n",
       " '[INST]Below is a user query about industrial robotic operations, translate it into JSON outputs for specific function calls.\\n\\n I am verifying the answers generated by an automatic system to the following question: what is an sd memory card reader Suggested answer: There are three categories of card readers sorted by the type and quantity of the card slots: single card reader (e.g. 1x SD-only), multi card reader (e.g. 9-in-1) and series card reader (e.g. 4x SD only). Should I validate this answer?\\n\\n\\n[1]. No\\n[2]. Yes\\nAnswer: [/INST]{{\"functions\": [{{\"function_name\": \"\", \"inputs\": []}}]}}',\n",
       " \"[INST]Below is a user query about industrial robotic operations, translate it into JSON outputs for specific function calls.\\n\\n Show me the current joint values of the robot [/INST]{'functions': [{'function_name': 'get_joint_values', 'inputs': []}]}\",\n",
       " \"[INST]Below is a user query about industrial robotic operations, translate it into JSON outputs for specific function calls.\\n\\n Move TCP to (300, -100, 400) millimeters [/INST]{'functions': [{'function_name': 'move_tcp', 'inputs': [{'name': 'x', 'value': 300.0, 'unit': 'mm'}, {'name': 'y', 'value': -100.0, 'unit': 'mm'}, {'name': 'z', 'value': 400.0, 'unit': 'mm'}]}]}\",\n",
       " \"[INST]Below is a user query about industrial robotic operations, translate it into JSON outputs for specific function calls.\\n\\n Move TCP along the x and y axes for 1000 millimeters [/INST]{'functions': [{'function_name': 'move_tcp', 'inputs': [{'name': 'x', 'value': 1000.0, 'unit': 'mm'}, {'name': 'y', 'value': 1000.0, 'unit': 'mm'}]}]}\",\n",
       " \"[INST]Below is a user query about industrial robotic operations, translate it into JSON outputs for specific function calls.\\n\\n Get me the current statuses of all robot joints [/INST]{'functions': [{'function_name': 'get_joint_values', 'inputs': []}]}\",\n",
       " \"[INST]Below is a user query about industrial robotic operations, translate it into JSON outputs for specific function calls.\\n\\n Retrieve data regarding the robot's joint angles [/INST]{'functions': [{'function_name': 'get_joint_values', 'inputs': []}]}\",\n",
       " \"[INST]Below is a user query about industrial robotic operations, translate it into JSON outputs for specific function calls.\\n\\n Adjust joint 3 to -30 degrees and joint 6 to 45 degrees [/INST]{'functions': [{'function_name': 'move_joint', 'inputs': [{'name': 'joint', 'value': [2], 'unit': None}, {'name': 'angle', 'value': [-30.0], 'unit': 'deg'}]}, {'function_name': 'move_joint', 'inputs': [{'name': 'joint', 'value': [5], 'unit': None}, {'name': 'angle', 'value': [45.0], 'unit': 'deg'}]}]}\"]"
      ]
     },
     "execution_count": 148,
     "metadata": {},
     "output_type": "execute_result"
    }
   ],
   "source": [
    "tokenized_test_set[\"prompts\"]"
   ]
  },
  {
   "cell_type": "code",
   "execution_count": null,
   "metadata": {},
   "outputs": [],
   "source": []
  }
 ],
 "metadata": {
  "kernelspec": {
   "display_name": "robot-whisperer-lfIYXQcw-py3.10",
   "language": "python",
   "name": "python3"
  },
  "language_info": {
   "codemirror_mode": {
    "name": "ipython",
    "version": 3
   },
   "file_extension": ".py",
   "mimetype": "text/x-python",
   "name": "python",
   "nbconvert_exporter": "python",
   "pygments_lexer": "ipython3",
   "version": "3.10.13"
  }
 },
 "nbformat": 4,
 "nbformat_minor": 2
}
