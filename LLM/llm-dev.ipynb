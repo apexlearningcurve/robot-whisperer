{
 "cells": [
  {
   "cell_type": "code",
   "execution_count": 1,
   "metadata": {},
   "outputs": [],
   "source": [
    "from awq import AutoAWQForCausalLM\n",
    "from transformers import AutoTokenizer\n",
    "import torch\n",
    "import os"
   ]
  },
  {
   "cell_type": "code",
   "execution_count": 2,
   "metadata": {},
   "outputs": [
    {
     "data": {
      "text/plain": [
       "device(type='cuda')"
      ]
     },
     "execution_count": 2,
     "metadata": {},
     "output_type": "execute_result"
    }
   ],
   "source": [
    "device = torch.device(\"cuda\") if torch.cuda.is_available() else torch.device(\"cpu\")\n",
    "device"
   ]
  },
  {
   "cell_type": "code",
   "execution_count": 3,
   "metadata": {},
   "outputs": [
    {
     "data": {
      "text/plain": [
       "'/home/s/dev/robot-whisperer/LLM'"
      ]
     },
     "execution_count": 3,
     "metadata": {},
     "output_type": "execute_result"
    }
   ],
   "source": [
    "os.getcwd()"
   ]
  },
  {
   "cell_type": "code",
   "execution_count": 28,
   "metadata": {},
   "outputs": [
    {
     "data": {
      "application/vnd.jupyter.widget-view+json": {
       "model_id": "4e2d21fa37444eb996692561cc8a14d1",
       "version_major": 2,
       "version_minor": 0
      },
      "text/plain": [
       "config.json:   0%|          | 0.00/757 [00:00<?, ?B/s]"
      ]
     },
     "metadata": {},
     "output_type": "display_data"
    },
    {
     "data": {
      "application/vnd.jupyter.widget-view+json": {
       "model_id": "7d665aceddc5466083291ffcfdcc2670",
       "version_major": 2,
       "version_minor": 0
      },
      "text/plain": [
       "Fetching 10 files:   0%|          | 0/10 [00:00<?, ?it/s]"
      ]
     },
     "metadata": {},
     "output_type": "display_data"
    },
    {
     "data": {
      "application/vnd.jupyter.widget-view+json": {
       "model_id": "3f61c93e370649ecaf2d53c440cdb861",
       "version_major": 2,
       "version_minor": 0
      },
      "text/plain": [
       "README.md:   0%|          | 0.00/11.0k [00:00<?, ?B/s]"
      ]
     },
     "metadata": {},
     "output_type": "display_data"
    },
    {
     "data": {
      "application/vnd.jupyter.widget-view+json": {
       "model_id": "1a26db1d1e1347099a838a0f52b364cf",
       "version_major": 2,
       "version_minor": 0
      },
      "text/plain": [
       "tokenizer.json:   0%|          | 0.00/1.80M [00:00<?, ?B/s]"
      ]
     },
     "metadata": {},
     "output_type": "display_data"
    },
    {
     "data": {
      "application/vnd.jupyter.widget-view+json": {
       "model_id": "0a0a9652731c4cbd8371420ecb6d0491",
       "version_major": 2,
       "version_minor": 0
      },
      "text/plain": [
       "special_tokens_map.json:   0%|          | 0.00/72.0 [00:00<?, ?B/s]"
      ]
     },
     "metadata": {},
     "output_type": "display_data"
    },
    {
     "data": {
      "application/vnd.jupyter.widget-view+json": {
       "model_id": "0c302d8578964897a7502f795b66f94c",
       "version_major": 2,
       "version_minor": 0
      },
      "text/plain": [
       ".gitattributes:   0%|          | 0.00/1.52k [00:00<?, ?B/s]"
      ]
     },
     "metadata": {},
     "output_type": "display_data"
    },
    {
     "data": {
      "application/vnd.jupyter.widget-view+json": {
       "model_id": "b5a15d2e64574b52a59bb125563e64f2",
       "version_major": 2,
       "version_minor": 0
      },
      "text/plain": [
       "generation_config.json:   0%|          | 0.00/116 [00:00<?, ?B/s]"
      ]
     },
     "metadata": {},
     "output_type": "display_data"
    },
    {
     "data": {
      "application/vnd.jupyter.widget-view+json": {
       "model_id": "17d23b69c29e4b41af2cc3be856b6775",
       "version_major": 2,
       "version_minor": 0
      },
      "text/plain": [
       "quant_config.json:   0%|          | 0.00/90.0 [00:00<?, ?B/s]"
      ]
     },
     "metadata": {},
     "output_type": "display_data"
    },
    {
     "data": {
      "application/vnd.jupyter.widget-view+json": {
       "model_id": "11cca44c444a4d4b9395fea47c7cb755",
       "version_major": 2,
       "version_minor": 0
      },
      "text/plain": [
       "tokenizer.model:   0%|          | 0.00/493k [00:00<?, ?B/s]"
      ]
     },
     "metadata": {},
     "output_type": "display_data"
    },
    {
     "data": {
      "application/vnd.jupyter.widget-view+json": {
       "model_id": "0bc6b24971f1477d983b0d79a1934f49",
       "version_major": 2,
       "version_minor": 0
      },
      "text/plain": [
       "model.safetensors:   0%|          | 0.00/4.15G [00:00<?, ?B/s]"
      ]
     },
     "metadata": {},
     "output_type": "display_data"
    },
    {
     "data": {
      "application/vnd.jupyter.widget-view+json": {
       "model_id": "6ef7ab0a063543d59b1f1258ddf940be",
       "version_major": 2,
       "version_minor": 0
      },
      "text/plain": [
       "tokenizer_config.json:   0%|          | 0.00/962 [00:00<?, ?B/s]"
      ]
     },
     "metadata": {},
     "output_type": "display_data"
    }
   ],
   "source": [
    "weights_dir = \"./weights\"\n",
    "# model_name_or_path = \"TheBloke/Mistral-7B-v0.1-AWQ\"\n",
    "model_name_or_path = \"TheBloke/Mistral-7B-Instruct-v0.1-AWQ\"\n",
    "\n",
    "# Load model\n",
    "model = AutoAWQForCausalLM.from_quantized(model_name_or_path, fuse_layers=True,\n",
    "                                          trust_remote_code=False, safetensors=True, device=device, cache_dir=weights_dir)\n",
    "tokenizer = AutoTokenizer.from_pretrained(model_name_or_path, trust_remote_code=False, device=device, cache_dir=weights_dir)"
   ]
  },
  {
   "cell_type": "code",
   "execution_count": 26,
   "metadata": {},
   "outputs": [
    {
     "name": "stdout",
     "output_type": "stream",
     "text": [
      "\n",
      "\n",
      "*** Generate:\n",
      "Output:  <s> Tell me about AI\n",
      "\n",
      "# AI is a technology that can be used to automate tasks that are repetitive and time-consuming.\n",
      "\n",
      "AI is a technology that can be used to automate tasks that are repetitive and time-consuming. It can also be used to make decisions based on data, which can help businesses make better decisions.\n",
      "\n",
      "AI is a technology that can be used to automate tasks that are repetitive and time-consuming. It can also be used to make decisions based on data, which can help businesses make better decisions.\n",
      "\n",
      "## What is AI?\n",
      "\n",
      "AI is a technology that can be used to automate tasks that are repetitive and time-consuming. It can also be used to make decisions based on data, which can help businesses make better decisions.\n",
      "\n",
      "## What are the benefits of AI?\n",
      "\n",
      "AI is a technology that can be used to automate tasks that are repetitive and time-consuming. It can also be used to make decisions based on data, which can help businesses make better decisions.\n",
      "\n",
      "## What are the challenges of AI?\n",
      "\n",
      "AI is a technology that can be used to automate tasks that are repetitive and time-consuming. It can also be used to make decisions based on data, which can help businesses make better decisions.\n",
      "\n",
      "## What are the benefits of AI?\n",
      "\n",
      "AI is a technology that can be used to automate tasks that are repetitive and time-consuming. It can also be used to make decisions based on data, which can help businesses make better decisions.\n",
      "\n",
      "## What are the challenges of AI?\n",
      "\n",
      "AI is a technology that can be used to automate tasks that are repetitive and time-consuming. It can also be used to make decisions based on data, which can help businesses make better decisions.\n",
      "\n",
      "## What are the benefits of AI?\n",
      "\n",
      "AI is a technology that can be used to automate tasks that are repetitive and time-consuming. It can also be used to make decisions based on data, which can help businesses make better decisions.\n",
      "\n",
      "## What are the challenges of AI?\n",
      "\n",
      "AI is a technology that can be used to automate tasks that are repetitive and time-consuming. It can also be used to make decisions based on data, which can help businesses make better decisions.\n",
      "\n",
      "## What are the benefits of AI?\n",
      "\n",
      "AI is a technology that can be used to automate tasks that are\n"
     ]
    }
   ],
   "source": [
    "prompt = \"Tell me about AI\"\n",
    "prompt_template=f'''{prompt}\n",
    "\n",
    "'''\n",
    "\n",
    "print(\"\\n\\n*** Generate:\")\n",
    "\n",
    "tokens = tokenizer(\n",
    "    prompt_template,\n",
    "    return_tensors='pt'\n",
    ").input_ids.cuda()\n",
    "\n",
    "# Generate output\n",
    "generation_output = model.generate(\n",
    "    tokens,\n",
    "    do_sample=True,\n",
    "    temperature=0.1,\n",
    "    top_p=0.95,\n",
    "    top_k=40,\n",
    "    max_new_tokens=512\n",
    ")\n",
    "\n",
    "print(\"Output: \", tokenizer.decode(generation_output[0]))\n"
   ]
  },
  {
   "cell_type": "code",
   "execution_count": 24,
   "metadata": {},
   "outputs": [
    {
     "name": "stderr",
     "output_type": "stream",
     "text": [
      "The model 'MistralAWQForCausalLM' is not supported for text-generation. Supported models are ['BartForCausalLM', 'BertLMHeadModel', 'BertGenerationDecoder', 'BigBirdForCausalLM', 'BigBirdPegasusForCausalLM', 'BioGptForCausalLM', 'BlenderbotForCausalLM', 'BlenderbotSmallForCausalLM', 'BloomForCausalLM', 'CamembertForCausalLM', 'LlamaForCausalLM', 'CodeGenForCausalLM', 'CpmAntForCausalLM', 'CTRLLMHeadModel', 'Data2VecTextForCausalLM', 'ElectraForCausalLM', 'ErnieForCausalLM', 'FalconForCausalLM', 'FuyuForCausalLM', 'GitForCausalLM', 'GPT2LMHeadModel', 'GPT2LMHeadModel', 'GPTBigCodeForCausalLM', 'GPTNeoForCausalLM', 'GPTNeoXForCausalLM', 'GPTNeoXJapaneseForCausalLM', 'GPTJForCausalLM', 'LlamaForCausalLM', 'MarianForCausalLM', 'MBartForCausalLM', 'MegaForCausalLM', 'MegatronBertForCausalLM', 'MistralForCausalLM', 'MixtralForCausalLM', 'MptForCausalLM', 'MusicgenForCausalLM', 'MvpForCausalLM', 'OpenLlamaForCausalLM', 'OpenAIGPTLMHeadModel', 'OPTForCausalLM', 'PegasusForCausalLM', 'PersimmonForCausalLM', 'PhiForCausalLM', 'PLBartForCausalLM', 'ProphetNetForCausalLM', 'QDQBertLMHeadModel', 'ReformerModelWithLMHead', 'RemBertForCausalLM', 'RobertaForCausalLM', 'RobertaPreLayerNormForCausalLM', 'RoCBertForCausalLM', 'RoFormerForCausalLM', 'RwkvForCausalLM', 'Speech2Text2ForCausalLM', 'TransfoXLLMHeadModel', 'TrOCRForCausalLM', 'WhisperForCausalLM', 'XGLMForCausalLM', 'XLMWithLMHeadModel', 'XLMProphetNetForCausalLM', 'XLMRobertaForCausalLM', 'XLMRobertaXLForCausalLM', 'XLNetLMHeadModel', 'XmodForCausalLM'].\n"
     ]
    },
    {
     "name": "stdout",
     "output_type": "stream",
     "text": [
      "*** Pipeline:\n",
      "Tell me about AI\n",
      "\n",
      "I want to be able to create more opportunities for young people.\n",
      "\n",
      "# 'Michael'\n",
      "\n",
      "I want to show how alcoholism effects not just the person, but loved ones as well.\n",
      "\n",
      "# Bethany L\n",
      "\n",
      "2016-2017: I was nominated for this award because of my work on behalf of homeless people in Derby\n",
      "\n",
      "## Robyn Wimble\n",
      "\n",
      "I want to encourage young people to open up about their mental health\n",
      "\n",
      "# Charlotte Lenman\n",
      "\n",
      "I want to help young people experiencing low self-esteem.\n",
      "\n",
      "# Alicia\n",
      "\n",
      "I want to help others find creative ways to cope with anxiety.\n",
      "\n",
      "# Connie Chadwick\n",
      "\n",
      "A campaign to encourage better road safety.\n",
      "\n",
      "# Jack O\n",
      "\n",
      "My team and I are encouraging young people to use social media in a positive way.\n",
      "\n",
      "# Jade C\n",
      "\n",
      "I helped visually impaired people express how they see the world through photos.\n",
      "\n",
      "## Megan McNern\n",
      "\n",
      "I want to challenge the negative uses of anonymous social media sites.\n",
      "\n",
      "# Kieran S\n",
      "\n",
      "I restored my local community park.\n",
      "\n",
      "# Laura F\n",
      "\n",
      "I'm tackling the misconception that being gay is somehow a choice.\n",
      "\n",
      "## Ashley Alphonso\n",
      "\n",
      "I want young people to resist peer pressure so they can make positive decisions for their lives\n",
      "\n",
      "# 'Bridgend Fixers'\n",
      "\n",
      "A group of young people are concerned about local drug abuse.\n",
      "\n",
      "# Ben M\n",
      "\n",
      "Bodybuilder Ben is raising awarness about the dangers of steroids.\n",
      "\n",
      "# Jojo\n",
      "\n",
      "I want to help prevent knife crime following the death of my cousin.\n",
      "\n",
      "# Shannon F\n",
      "\n",
      "I want young people to feel positive and confident about their body.\n",
      "\n",
      "## Adeola Gbakinro\n",
      "\n",
      "Mentors can help with confidence and access to useful information.\n",
      "\n",
      "# Sarah Baker\n",
      "\n",
      "We want teens to recognise that it doesn't matter how small you are, your actions are still big.\n",
      "\n",
      "# Sami\n",
      "\n",
      "I want to raise awareness about suicide and inspire people to cherish their lives.\n",
      "\n",
      "# Zoe D\n",
      "\n",
      "I'm letting young people know that volunteering is a good thing to do.\n",
      "\n",
      "# 'Emily'\n",
      "\n",
      "I want to show young people growing up without a father that\n"
     ]
    }
   ],
   "source": [
    "# Inference should be possible with transformers pipeline as well in future\n",
    "# But currently this is not yet supported by AutoAWQ (correct as of September 25th 2023)\n",
    "from transformers import pipeline\n",
    "\n",
    "print(\"*** Pipeline:\")\n",
    "pipe = pipeline(\n",
    "    \"text-generation\",\n",
    "    model=model,\n",
    "    tokenizer=tokenizer,\n",
    "    max_new_tokens=512,\n",
    "    do_sample=True,\n",
    "    temperature=0.7,\n",
    "    top_p=0.95,\n",
    "    top_k=40,\n",
    "    repetition_penalty=1.1,\n",
    "    device=device,\n",
    ")\n",
    "\n",
    "print(pipe(prompt_template)[0]['generated_text'])"
   ]
  },
  {
   "cell_type": "code",
   "execution_count": null,
   "metadata": {},
   "outputs": [],
   "source": []
  }
 ],
 "metadata": {
  "kernelspec": {
   "display_name": "robot-whisperer-lfIYXQcw-py3.10",
   "language": "python",
   "name": "python3"
  },
  "language_info": {
   "codemirror_mode": {
    "name": "ipython",
    "version": 3
   },
   "file_extension": ".py",
   "mimetype": "text/x-python",
   "name": "python",
   "nbconvert_exporter": "python",
   "pygments_lexer": "ipython3",
   "version": "3.10.13"
  }
 },
 "nbformat": 4,
 "nbformat_minor": 2
}
