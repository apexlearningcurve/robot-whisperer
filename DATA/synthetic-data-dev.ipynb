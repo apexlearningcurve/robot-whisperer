{
 "cells": [
  {
   "cell_type": "code",
   "execution_count": 3,
   "metadata": {},
   "outputs": [],
   "source": [
    "import os\n",
    "import json\n",
    "import openai\n",
    "import tiktoken\n",
    "import numpy as np\n",
    "from pathlib import Path\n",
    "from tqdm.auto import tqdm\n",
    "from datetime import datetime\n",
    "from tenacity import (\n",
    "    retry,\n",
    "    stop_after_attempt,\n",
    "    wait_random_exponential,\n",
    ")\n",
    "from dotenv import find_dotenv, load_dotenv"
   ]
  },
  {
   "cell_type": "code",
   "execution_count": 3,
   "metadata": {},
   "outputs": [
    {
     "data": {
      "text/plain": [
       "False"
      ]
     },
     "execution_count": 3,
     "metadata": {},
     "output_type": "execute_result"
    }
   ],
   "source": [
    "load_dotenv(find_dotenv())"
   ]
  },
  {
   "cell_type": "code",
   "execution_count": 3,
   "metadata": {},
   "outputs": [],
   "source": [
    "model_id = \"gpt-3.5-turbo-1106\"\n",
    "client = openai.OpenAI(api_key=os.environ[\"OPENAI_API_KEY\"])\n",
    "tokenizer = tiktoken.encoding_for_model(model_id)"
   ]
  },
  {
   "cell_type": "code",
   "execution_count": 6,
   "metadata": {},
   "outputs": [],
   "source": [
    "prompt_updated = \"\"\"\n",
    "# TASK DESCRIPTION {rand_num}\n",
    "Create a dataset for LLM fine-tuning consisting of user queries about industrial robotic operations and their corresponding JSON function calls. Focus on generating queries with varying complexity levels, from simple to advanced, and provide examples in real-world scenarios.\n",
    "\n",
    "# JSON PARAMETER VALUES\n",
    "- query: User-generated query, varying in complexity (contains different number of functions in query).\n",
    "- functions: Array of function calls derived from the query, identified using separators like \"and\", \"then\", \",\", etc.\n",
    "- function_name: Specific robot function (\"move_tcp\", \"move_joint\", \"get_joint_values\").\n",
    "- input_name: Name of the function's input parameter, specifying the type (integer, float, string).\n",
    "- input_value: Value of the input parameter, adhering to the specified type.\n",
    "\n",
    "# FUNCTIONS EXPLAINED WITH EXAMPLES\n",
    "- move_tcp: Moves the robot's TCP. \n",
    "    Inputs: x, y, z (position; type: float), q1, q2, q3, q4 (quaternion values; type: float), unit (correlates to x, y, z; type: str, [\"m\", \"cm\", \"mm\"]). \n",
    "    Example: \"Move TCP to coordinates (0.5, 0.3, 0.7) m\" translates to x: 0.5, y: 0.3, z: 0.7; unit: m\n",
    "- move_joint: Rotates/moves a robot joint. \n",
    "    Inputs: joint (index number; type: array of integers; note: joints go from 0 to n-1), angle (degrees or radians, type: array of floats), unit (correlates to angle; type: str, [\"rad\", \"deg\"]). \n",
    "    Example: \"Rotate joint 2 by 45 degrees\" results in joint: [2], angle: [45], unit: deg.\n",
    "- get_joint_values: Retrieves robot joint statuses, no input parameters required. \n",
    "    Example: \"Get the current status of robot joints.\"\n",
    "\n",
    "# GUIDANCE\n",
    "- Focus on verbs and technical terms for function selection.\n",
    "- Ensure queries are deterministic and precise.\n",
    "- Queries should vary in complexity, from direct instructions to those requiring contextual understanding.\n",
    "- Real-World Scenarios: Frame queries in practical industrial settings.\n",
    "\n",
    "# RESPONSE FORMAT\n",
    "- Include only necessary functions as per the query.\n",
    "- Maintain the sequence of functions as in the query.\n",
    "- Specify units only when required, omit default values.\n",
    "\n",
    "# JSON FORMAT\n",
    "{{\n",
    "    \"query\": \"<generated_query>\",\n",
    "    \"functions\": [\n",
    "        {{\n",
    "            \"function_name\": \"<name>\",\n",
    "            \"inputs\": [\n",
    "                {{\"name\": \"<name>\", \"value\": \"<value>\", \"unit\": \"<unit>\"}},\n",
    "                {{\"name\": \"<name>\", \"value\": \"<value>\", \"unit\": \"<unit>\"}}\n",
    "            ]\n",
    "        }},\n",
    "        {{\n",
    "            \"function_name\": \"<name>\",\n",
    "            \"inputs\": [{{\"name\": \"<name>\", \"value\": \"<value>\", \"unit\": \"<unit>\"}}]\n",
    "        }}\n",
    "    ]\n",
    "}}\n",
    "\n",
    "# GENERATED EXAMPLES:\n",
    "    NOTE: DO NOT copy these examples, only use them as a reference!\n",
    "    {{\n",
    "        'query': 'Move robot tcp along x and y for 1000mm',\n",
    "        'functions': [{{'function_name': 'move_tcp',\n",
    "            'inputs': [\n",
    "                {{'name': 'x', 'value': 1000.0, 'unit': 'mm'}},\n",
    "                {{'name': 'y', 'value': 1000.0, 'unit': 'mm'}}\n",
    "                ]\n",
    "            }}\n",
    "        ]\n",
    "    }}\n",
    "    {{\n",
    "        'query': 'Move robot sixth joint for -30 degrees',\n",
    "        'functions': [{{'function_name': 'move_joint',\n",
    "            'inputs': [\n",
    "                {{'name': 'joint', 'value': [5], 'unit': None}},\n",
    "                {{'name': 'angle', 'value': [-30.0], 'unit': 'deg'}}\n",
    "                ]\n",
    "            }}\n",
    "        ]\n",
    "    }}\n",
    "    {{\n",
    "        'query': 'Give me robot joints info',\n",
    "        'functions': [{{'function_name': 'get_joint_values',\n",
    "            'inputs': []\n",
    "            }}\n",
    "        ]\n",
    "    }}\n",
    "    {{\n",
    "        'query': 'Rotate robot base for 45 and move TCP along x axis for 50 milimeters.',\n",
    "        'functions': [\n",
    "            {{'function_name': 'move_joint',\n",
    "                'inputs': [\n",
    "                    {{'name': 'joint', 'value': [0], 'unit': None}},\n",
    "                    {{'name': 'angle', 'value': [45.0], 'unit': 'deg'}}\n",
    "                ]\n",
    "            }},\n",
    "            {{'function_name': 'move_tcp',\n",
    "                'inputs': [{{'name': 'x', 'value': 50.0, 'unit': 'mm'}}]\n",
    "            }}\n",
    "        ]\n",
    "    }}\n",
    "    {{\n",
    "        'query': 'I want you to rotate joint 2 for 30 and joint 7 for 45 degrees then joint 3 for pi/4',\n",
    "        'functions': [\n",
    "            {{'function_name': 'move_joint',\n",
    "                'inputs': [\n",
    "                    {{'name': 'joint', 'value': [2, 7], 'unit': None}},\n",
    "                    {{'name': 'angle', 'value': [30.0, 45.0], 'unit': 'deg'}}\n",
    "                    ]\n",
    "            }},\n",
    "            {{'function_name': 'move_joint',\n",
    "                'inputs': [\n",
    "                    {{'name': 'joint', 'value': [3], 'unit': None}},\n",
    "                    {{'name': 'angle', 'value': [0.785398], 'unit': 'rad'}}\n",
    "                    ]\n",
    "            }}\n",
    "        ]\n",
    "    }}\n",
    "\"\"\""
   ]
  },
  {
   "cell_type": "code",
   "execution_count": 126,
   "metadata": {},
   "outputs": [],
   "source": [
    "prompt_json = \"\"\"\n",
    "# TASK DESCRIPTION\n",
    "Create a dataset for LLM fine-tuning from user queries about industrial robotic operations by formatting them to corresponding JSON function calls.\n",
    "\n",
    "# JSON PARAMETER VALUES\n",
    "- functions: Array of function calls derived from the query, identified using separators like \"and\", \"then\", \",\", etc.\n",
    "- function_name: Specific robot function (\"move_tcp\", \"move_joint\", \"get_joint_values\").\n",
    "- input_name: Name of the function's input parameter, specifying the type (integer, float, string).\n",
    "- input_value: Value of the input parameter, adhering to the specified type.\n",
    "\n",
    "# FUNCTIONS EXPLAINED WITH EXAMPLES\n",
    "- move_tcp: Moves the robot's TCP. \n",
    "    Inputs: x, y, z (position; type: float), q1, q2, q3, q4 (quaternion values; type: float), unit (correlates to x, y, z; type: str, [\"m\", \"cm\", \"mm\"]). \n",
    "    Example: \"Move TCP to coordinates (0.5, 0.3, 0.7) m\" translates to x: 0.5, y: 0.3, z: 0.7; unit: m\n",
    "- move_joint: Rotates/moves a robot joint. \n",
    "    Inputs: joint (index number; type: array of integers; note: joints go from 0 to n-1), angle (degrees or radians, type: array of floats), unit (correlates to angle; type: str, [\"rad\", \"deg\"]). \n",
    "    Example: \"Rotate joint 2 by 45 degrees\" results in joint: [2], angle: [45], unit: deg.\n",
    "- get_joint_values: Retrieves robot joint statuses, no input parameters required. \n",
    "    Example: \"Get the current status of robot joints.\"\n",
    "\n",
    "# GUIDANCE\n",
    "- Focus on verbs and technical terms for function selection.\n",
    "- Include only the necessary functions directly implied by the query.\n",
    "- Maintain the sequence of functions as in the query.\n",
    "- Include only necessary functions as per the query.\n",
    "- Specify units only when required, omit default values.\n",
    "\n",
    "# RESPONSE JSON FORMAT\n",
    "{{\n",
    "    \"query\": \"<generated_query>\",\n",
    "    \"functions\": [\n",
    "        {{\n",
    "            \"function_name\": \"<name>\",\n",
    "            \"inputs\": [\n",
    "                {{\"name\": \"<name>\", \"value\": \"<value>\", \"unit\": \"<unit>\"}},\n",
    "                {{\"name\": \"<name>\", \"value\": \"<value>\", \"unit\": \"<unit>\"}}\n",
    "            ]\n",
    "        }},\n",
    "        {{\n",
    "            \"function_name\": \"<name>\",\n",
    "            \"inputs\": [{{\"name\": \"<name>\", \"value\": \"<value>\", \"unit\": \"<unit>\"}}]\n",
    "        }}\n",
    "    ]\n",
    "}}\n",
    "\n",
    "USER QUERY: Move robot tcp along x and y for 1000mm\n",
    "RESPONSE:\n",
    "{{\n",
    "    'functions': [{{'function_name': 'move_tcp',\n",
    "        'inputs': [\n",
    "            {{'name': 'x', 'value': 1000.0, 'unit': 'mm'}},\n",
    "            {{'name': 'y', 'value': 1000.0, 'unit': 'mm'}}\n",
    "            ]\n",
    "        }}\n",
    "    ]\n",
    "}}\n",
    "\n",
    "USER QUERY: Move robot sixth joint for -30 degrees\n",
    "RESPONSE:\n",
    "{{\n",
    "    'functions': [{{'function_name': 'move_joint',\n",
    "        'inputs': [\n",
    "            {{'name': 'joint', 'value': [5], 'unit': None}},\n",
    "            {{'name': 'angle', 'value': [-30.0], 'unit': 'deg'}}\n",
    "            ]\n",
    "        }}\n",
    "    ]\n",
    "}}\n",
    "\n",
    "USER QUERY: Give me robot joints info\n",
    "RESPONSE:\n",
    "{{\n",
    "    'functions': [{{'function_name': 'get_joint_values',\n",
    "        'inputs': []\n",
    "        }}\n",
    "    ]\n",
    "}}\n",
    "\n",
    "USER QUERY: Rotate robot base for 45 and move TCP along x axis for 50 milimeters.\n",
    "RESPONSE:\n",
    "{{\n",
    "    'functions': [\n",
    "        {{'function_name': 'move_joint',\n",
    "            'inputs': [\n",
    "                {{'name': 'joint', 'value': [0], 'unit': None}},\n",
    "                {{'name': 'angle', 'value': [45.0], 'unit': 'deg'}}\n",
    "            ]\n",
    "        }},\n",
    "        {{'function_name': 'move_tcp',\n",
    "            'inputs': [{{'name': 'x', 'value': 50.0, 'unit': 'mm'}}]\n",
    "        }}\n",
    "    ]\n",
    "}}\n",
    "\n",
    "USER QUERY: I want you to rotate joint 2 for 30 and joint 7 for 45 degrees then joint 3 for pi/4\n",
    "RESPONSE:\n",
    "{{\n",
    "    'functions': [\n",
    "        {{'function_name': 'move_joint',\n",
    "            'inputs': [\n",
    "                {{'name': 'joint', 'value': [2, 7], 'unit': None}},\n",
    "                {{'name': 'angle', 'value': [30.0, 45.0], 'unit': 'deg'}}\n",
    "                ]\n",
    "        }},\n",
    "        {{'function_name': 'move_joint',\n",
    "            'inputs': [\n",
    "                {{'name': 'joint', 'value': [3], 'unit': None}},\n",
    "                {{'name': 'angle', 'value': [0.785398], 'unit': 'rad'}}\n",
    "                ]\n",
    "        }}\n",
    "    ]\n",
    "}}\n",
    "\n",
    "USER QUERY: {user_query}\n",
    "RESPONSE:\n",
    "\"\"\""
   ]
  },
  {
   "cell_type": "code",
   "execution_count": 119,
   "metadata": {},
   "outputs": [
    {
     "data": {
      "text/plain": [
       "1097"
      ]
     },
     "execution_count": 119,
     "metadata": {},
     "output_type": "execute_result"
    }
   ],
   "source": [
    "prompt_tokenized = tokenizer.encode(prompt_json)\n",
    "len(prompt_tokenized)"
   ]
  },
  {
   "cell_type": "code",
   "execution_count": 132,
   "metadata": {},
   "outputs": [
    {
     "data": {
      "text/plain": [
       "'Move robot TCP to coordinates (0.5, 0.3, 0.7) in meters'"
      ]
     },
     "execution_count": 132,
     "metadata": {},
     "output_type": "execute_result"
    }
   ],
   "source": [
    "queries[0]"
   ]
  },
  {
   "cell_type": "code",
   "execution_count": 133,
   "metadata": {},
   "outputs": [
    {
     "data": {
      "text/plain": [
       "[{'role': 'user',\n",
       "  'content': '\\n# TASK DESCRIPTION\\nCreate a dataset for LLM fine-tuning from user queries about industrial robotic operations by formatting them to corresponding JSON function calls.\\n\\n# JSON PARAMETER VALUES\\n- functions: Array of function calls derived from the query, identified using separators like \"and\", \"then\", \",\", etc.\\n- function_name: Specific robot function (\"move_tcp\", \"move_joint\", \"get_joint_values\").\\n- input_name: Name of the function\\'s input parameter, specifying the type (integer, float, string).\\n- input_value: Value of the input parameter, adhering to the specified type.\\n\\n# FUNCTIONS EXPLAINED WITH EXAMPLES\\n- move_tcp: Moves the robot\\'s TCP. \\n    Inputs: x, y, z (position; type: float), q1, q2, q3, q4 (quaternion values; type: float), unit (correlates to x, y, z; type: str, [\"m\", \"cm\", \"mm\"]). \\n    Example: \"Move TCP to coordinates (0.5, 0.3, 0.7) m\" translates to x: 0.5, y: 0.3, z: 0.7; unit: m\\n- move_joint: Rotates/moves a robot joint. \\n    Inputs: joint (index number; type: array of integers; note: joints go from 0 to n-1), angle (degrees or radians, type: array of floats), unit (correlates to angle; type: str, [\"rad\", \"deg\"]). \\n    Example: \"Rotate joint 2 by 45 degrees\" results in joint: [2], angle: [45], unit: deg.\\n- get_joint_values: Retrieves robot joint statuses, no input parameters required. \\n    Example: \"Get the current status of robot joints.\"\\n\\n# GUIDANCE\\n- Focus on verbs and technical terms for function selection.\\n- Include only the necessary functions directly implied by the query.\\n- Maintain the sequence of functions as in the query.\\n- Include only necessary functions as per the query.\\n- Specify units only when required, omit default values.\\n\\n# RESPONSE JSON FORMAT\\n{\\n    \"query\": \"<generated_query>\",\\n    \"functions\": [\\n        {\\n            \"function_name\": \"<name>\",\\n            \"inputs\": [\\n                {\"name\": \"<name>\", \"value\": \"<value>\", \"unit\": \"<unit>\"},\\n                {\"name\": \"<name>\", \"value\": \"<value>\", \"unit\": \"<unit>\"}\\n            ]\\n        },\\n        {\\n            \"function_name\": \"<name>\",\\n            \"inputs\": [{\"name\": \"<name>\", \"value\": \"<value>\", \"unit\": \"<unit>\"}]\\n        }\\n    ]\\n}\\n\\nUSER QUERY: Move robot tcp along x and y for 1000mm\\nRESPONSE:\\n{\\n    \\'functions\\': [{\\'function_name\\': \\'move_tcp\\',\\n        \\'inputs\\': [\\n            {\\'name\\': \\'x\\', \\'value\\': 1000.0, \\'unit\\': \\'mm\\'},\\n            {\\'name\\': \\'y\\', \\'value\\': 1000.0, \\'unit\\': \\'mm\\'}\\n            ]\\n        }\\n    ]\\n}\\n\\nUSER QUERY: Move robot sixth joint for -30 degrees\\nRESPONSE:\\n{\\n    \\'functions\\': [{\\'function_name\\': \\'move_joint\\',\\n        \\'inputs\\': [\\n            {\\'name\\': \\'joint\\', \\'value\\': [5], \\'unit\\': None},\\n            {\\'name\\': \\'angle\\', \\'value\\': [-30.0], \\'unit\\': \\'deg\\'}\\n            ]\\n        }\\n    ]\\n}\\n\\nUSER QUERY: Give me robot joints info\\nRESPONSE:\\n{\\n    \\'functions\\': [{\\'function_name\\': \\'get_joint_values\\',\\n        \\'inputs\\': []\\n        }\\n    ]\\n}\\n\\nUSER QUERY: Rotate robot base for 45 and move TCP along x axis for 50 milimeters.\\nRESPONSE:\\n{\\n    \\'functions\\': [\\n        {\\'function_name\\': \\'move_joint\\',\\n            \\'inputs\\': [\\n                {\\'name\\': \\'joint\\', \\'value\\': [0], \\'unit\\': None},\\n                {\\'name\\': \\'angle\\', \\'value\\': [45.0], \\'unit\\': \\'deg\\'}\\n            ]\\n        },\\n        {\\'function_name\\': \\'move_tcp\\',\\n            \\'inputs\\': [{\\'name\\': \\'x\\', \\'value\\': 50.0, \\'unit\\': \\'mm\\'}]\\n        }\\n    ]\\n}\\n\\nUSER QUERY: I want you to rotate joint 2 for 30 and joint 7 for 45 degrees then joint 3 for pi/4\\nRESPONSE:\\n{\\n    \\'functions\\': [\\n        {\\'function_name\\': \\'move_joint\\',\\n            \\'inputs\\': [\\n                {\\'name\\': \\'joint\\', \\'value\\': [2, 7], \\'unit\\': None},\\n                {\\'name\\': \\'angle\\', \\'value\\': [30.0, 45.0], \\'unit\\': \\'deg\\'}\\n                ]\\n        },\\n        {\\'function_name\\': \\'move_joint\\',\\n            \\'inputs\\': [\\n                {\\'name\\': \\'joint\\', \\'value\\': [3], \\'unit\\': None},\\n                {\\'name\\': \\'angle\\', \\'value\\': [0.785398], \\'unit\\': \\'rad\\'}\\n                ]\\n        }\\n    ]\\n}\\n\\nUSER QUERY: Move robot TCP to coordinates (0.5, 0.3, 0.7) in meters\\nRESPONSE:\\n'}]"
      ]
     },
     "execution_count": 133,
     "metadata": {},
     "output_type": "execute_result"
    }
   ],
   "source": [
    "messages = [\n",
    "    {\n",
    "        \"role\": \"user\",\n",
    "        \"content\": prompt_json.format(user_query=queries[0]),\n",
    "    }\n",
    "]\n",
    "messages"
   ]
  },
  {
   "cell_type": "code",
   "execution_count": 134,
   "metadata": {},
   "outputs": [],
   "source": [
    "response = client.chat.completions.create(\n",
    "    model=model_id,\n",
    "    temperature=0,\n",
    "    response_format={\"type\": \"json_object\"},\n",
    "    frequency_penalty=None,\n",
    "    messages=messages,\n",
    ")"
   ]
  },
  {
   "cell_type": "code",
   "execution_count": 135,
   "metadata": {},
   "outputs": [
    {
     "data": {
      "text/plain": [
       "{'functions': [{'function_name': 'move_tcp',\n",
       "   'inputs': [{'name': 'x', 'value': 0.5, 'unit': 'm'},\n",
       "    {'name': 'y', 'value': 0.3, 'unit': 'm'},\n",
       "    {'name': 'z', 'value': 0.7, 'unit': 'm'}]}]}"
      ]
     },
     "execution_count": 135,
     "metadata": {},
     "output_type": "execute_result"
    }
   ],
   "source": [
    "formatted_data = json.loads(response.choices[0].message.content)\n",
    "formatted_data"
   ]
  },
  {
   "cell_type": "code",
   "execution_count": 68,
   "metadata": {},
   "outputs": [],
   "source": [
    "prompt_queries = \"\"\"\n",
    "# TASK DESCRIPTION {rand_num}\n",
    "Create a dataset for LLM fine-tuning consisting of user queries about industrial robotic operations and their corresponding JSON function calls. Focus on generating queries with varying complexity levels, from simple to advanced, and provide examples in real-world scenarios.\n",
    "\n",
    "# FUNCTIONS EXPLAINED WITH EXAMPLES\n",
    "- move_tcp: Moves the robot's TCP. \n",
    "    Inputs: x, y, z (position; type: float), q1, q2, q3, q4 (quaternion values; type: float), unit (correlates to x, y, z; type: str, [\"m\", \"cm\", \"mm\"]). \n",
    "    Example: \"Move TCP to coordinates (0.5, 0.3, 0.7) m\" translates to x: 0.5, y: 0.3, z: 0.7; unit: m\n",
    "- move_joint: Rotates/moves a robot joint. \n",
    "    Inputs: joint (index number; type: array of integers; note: joints go from 0 to n-1), angle (degrees or radians, type: array of floats), unit (correlates to angle; type: str, [\"rad\", \"deg\"]). \n",
    "    Example: \"Rotate joint 2 by 45 degrees\" results in joint: [2], angle: [45], unit: deg.\n",
    "- get_joint_values: Retrieves robot joint statuses, no input parameters required. \n",
    "    Example: \"Get the current status of robot joints.\"\n",
    "\n",
    "# GUIDANCE\n",
    "- Focus on verbs and technical terms for function selection.\n",
    "- Ensure queries are deterministic and precise.\n",
    "- Queries should vary in complexity, from direct instructions to those requiring contextual understanding.\n",
    "- Real-World Scenarios: Frame queries in practical industrial settings.\n",
    "\n",
    "# RESPONSE FORMAT\n",
    "- Return format is JSON.\n",
    "- Only one key: \"queries\"\n",
    "- Values are list with strings that are generated queries.\n",
    "- Generate {num_examples_per_prompt} unique queries.\n",
    "- Query examples:\n",
    "    - Move robot tcp along x and y for 1000mm\n",
    "    - Move robot sixth joint for -30 degrees\n",
    "    - Give me robot joints info\n",
    "    - Rotate robot base for 45 and move TCP along x axis for 50 milimeters.\n",
    "    - I want you to rotate joint 2 for 30 and joint 7 for 45 degrees then joint 3 for pi/4\n",
    "    - \n",
    "- Output format example:\n",
    "    {{\n",
    "        \"queries\" : [<generated_query>, <generated_query>, ..., <generated_query>]\n",
    "    }}\n",
    "\n",
    "\"\"\""
   ]
  },
  {
   "cell_type": "code",
   "execution_count": 16,
   "metadata": {},
   "outputs": [
    {
     "data": {
      "text/plain": [
       "522"
      ]
     },
     "execution_count": 16,
     "metadata": {},
     "output_type": "execute_result"
    }
   ],
   "source": [
    "prompt_tokenized = tokenizer.encode(prompt_queries)\n",
    "len(prompt_tokenized)"
   ]
  },
  {
   "cell_type": "code",
   "execution_count": 136,
   "metadata": {},
   "outputs": [],
   "source": [
    "@retry(wait=wait_random_exponential(min=1, max=60), stop=stop_after_attempt(6))\n",
    "def generate_data(\n",
    "    temperature: float, messages: list, frequency_penalty: float = None\n",
    ") -> dict:\n",
    "    response = client.chat.completions.create(\n",
    "        model=model_id,\n",
    "        temperature=temperature,\n",
    "        response_format={\"type\": \"json_object\"},\n",
    "        frequency_penalty=frequency_penalty,\n",
    "        messages=messages,\n",
    "    )\n",
    "    return json.loads(response.choices[0].message.content)"
   ]
  },
  {
   "cell_type": "code",
   "execution_count": 122,
   "metadata": {},
   "outputs": [],
   "source": [
    "def save_data(output_path: Path, queries: list) -> None:\n",
    "    with open(output_path, \"w\", encoding=\"utf-8\") as file:\n",
    "        json.dump(queries, file, indent=4, ensure_ascii=False)"
   ]
  },
  {
   "cell_type": "markdown",
   "metadata": {},
   "source": [
    "### Generate queries\n"
   ]
  },
  {
   "cell_type": "code",
   "execution_count": null,
   "metadata": {},
   "outputs": [],
   "source": [
    "current_dt = datetime.now().strftime(\"%Y-%b-%d_%H-%M-%S\")\n",
    "output_path = Path(f\"./generated-queries_{current_dt}.json\")"
   ]
  },
  {
   "cell_type": "code",
   "execution_count": 106,
   "metadata": {},
   "outputs": [
    {
     "data": {
      "application/vnd.jupyter.widget-view+json": {
       "model_id": "5eebc778c2934b048d0682c6cf8ec957",
       "version_major": 2,
       "version_minor": 0
      },
      "text/plain": [
       "  0%|          | 0/50 [00:00<?, ?it/s]"
      ]
     },
     "metadata": {},
     "output_type": "display_data"
    }
   ],
   "source": [
    "num_examples = 1_000\n",
    "num_examples_per_prompt = 20\n",
    "iterations = int(num_examples / num_examples_per_prompt)\n",
    "check_point = 5\n",
    "\n",
    "queries = []\n",
    "for iter in tqdm(range(iterations), total=iterations):\n",
    "    try:\n",
    "        messages = [\n",
    "            {\n",
    "                \"role\": \"user\",\n",
    "                \"content\": prompt_queries.format(\n",
    "                    rand_num=np.random.rand().__round__(5),\n",
    "                    num_examples_per_prompt=num_examples_per_prompt,\n",
    "                ),\n",
    "            },\n",
    "        ]\n",
    "        result = generate_data(\n",
    "            temperature=1,\n",
    "            frequency_penalty=round(np.random.rand() * 0.4, 4),\n",
    "            messages=messages,\n",
    "        )\n",
    "\n",
    "        queries.extend(\n",
    "            [query for query in result[\"queries\"] if len(query)]\n",
    "        )  # Check for empty string\n",
    "    except json.JSONDecodeError as e:\n",
    "        print(f\"ERROR happend while parsing response: {e}\")\n",
    "    if (iter + 1) % check_point == 0:\n",
    "        save_data(output_path, queries)\n",
    "\n",
    "save_data(output_path, queries)\n",
    "print(f\"Number of generated queries: {len(queries)}\")"
   ]
  },
  {
   "cell_type": "code",
   "execution_count": 141,
   "metadata": {},
   "outputs": [
    {
     "data": {
      "text/plain": [
       "986"
      ]
     },
     "execution_count": 141,
     "metadata": {},
     "output_type": "execute_result"
    }
   ],
   "source": [
    "len(queries)"
   ]
  },
  {
   "cell_type": "markdown",
   "metadata": {},
   "source": [
    "### Generate JSONs\n"
   ]
  },
  {
   "cell_type": "code",
   "execution_count": null,
   "metadata": {},
   "outputs": [],
   "source": [
    "current_dt = datetime.now().strftime(\"%Y-%b-%d_%H-%M-%S\")\n",
    "output_path = Path(f\"./formatted-queries_{current_dt}.json\")"
   ]
  },
  {
   "cell_type": "code",
   "execution_count": 140,
   "metadata": {},
   "outputs": [
    {
     "data": {
      "application/vnd.jupyter.widget-view+json": {
       "model_id": "89a183f8d852405c945a8c328171ad4b",
       "version_major": 2,
       "version_minor": 0
      },
      "text/plain": [
       "  0%|          | 0/986 [00:00<?, ?it/s]"
      ]
     },
     "metadata": {},
     "output_type": "display_data"
    },
    {
     "name": "stdout",
     "output_type": "stream",
     "text": [
      "Number of formatted queries: 986\n"
     ]
    }
   ],
   "source": [
    "check_point = 5\n",
    "\n",
    "formatted_queries = []\n",
    "for index, query in tqdm(enumerate(queries), total=len(queries)):\n",
    "    try:\n",
    "        messages = [\n",
    "            {\n",
    "                \"role\": \"user\",\n",
    "                \"content\": prompt_json.format(user_query=query),\n",
    "            }\n",
    "        ]\n",
    "        result = generate_data(\n",
    "            temperature=0,\n",
    "            messages=messages,\n",
    "            frequency_penalty=None,\n",
    "        )\n",
    "        formatted_queries.append((query, result))\n",
    "\n",
    "    except json.JSONDecodeError as e:\n",
    "        print(f\"ERROR happend while parsing response: {e}\")\n",
    "\n",
    "    if (index + 1) % check_point == 0:\n",
    "        save_data(output_path, formatted_queries)\n",
    "\n",
    "save_data(output_path, formatted_queries)\n",
    "print(f\"Number of formatted queries: {len(formatted_queries)}\")"
   ]
  },
  {
   "cell_type": "markdown",
   "metadata": {},
   "source": [
    "### Format the data for training\n"
   ]
  },
  {
   "cell_type": "code",
   "execution_count": 4,
   "metadata": {},
   "outputs": [],
   "source": [
    "with open(\n",
    "    \"./formatted-queries_2024-Jan-30_23-29-10.json\", \"r\", encoding=\"utf-8\"\n",
    ") as file:\n",
    "    formatted_queries = json.loads(file.read())"
   ]
  },
  {
   "cell_type": "code",
   "execution_count": 5,
   "metadata": {},
   "outputs": [],
   "source": [
    "output_path = Path(\"./processed_dataset_2024-Jan-30_23-29-10.json\")"
   ]
  },
  {
   "cell_type": "code",
   "execution_count": 7,
   "metadata": {},
   "outputs": [],
   "source": [
    "dataset = [\n",
    "    {\"user_query\": sample[0], \"function_calling\": str(sample[1])}\n",
    "    for sample in formatted_queries\n",
    "]\n",
    "processed_dataset = {\"version\": \"0.1.0\", \"data\": dataset}\n",
    "with open(output_path, \"w\", encoding=\"utf-8\") as file:\n",
    "    json.dump(processed_dataset, file, ensure_ascii=False)"
   ]
  },
  {
   "cell_type": "code",
   "execution_count": 9,
   "metadata": {},
   "outputs": [
    {
     "ename": "JSONDecodeError",
     "evalue": "Extra data: line 2 column 1 (char 280)",
     "output_type": "error",
     "traceback": [
      "\u001b[0;31m---------------------------------------------------------------------------\u001b[0m",
      "\u001b[0;31mJSONDecodeError\u001b[0m                           Traceback (most recent call last)",
      "Cell \u001b[0;32mIn[9], line 2\u001b[0m\n\u001b[1;32m      1\u001b[0m \u001b[38;5;28;01mwith\u001b[39;00m \u001b[38;5;28mopen\u001b[39m(output_path, \u001b[38;5;124m\"\u001b[39m\u001b[38;5;124mr\u001b[39m\u001b[38;5;124m\"\u001b[39m, encoding\u001b[38;5;241m=\u001b[39m\u001b[38;5;124m\"\u001b[39m\u001b[38;5;124mutf-8\u001b[39m\u001b[38;5;124m\"\u001b[39m) \u001b[38;5;28;01mas\u001b[39;00m file:\n\u001b[0;32m----> 2\u001b[0m     test \u001b[38;5;241m=\u001b[39m \u001b[43mjson\u001b[49m\u001b[38;5;241;43m.\u001b[39;49m\u001b[43mloads\u001b[49m\u001b[43m(\u001b[49m\u001b[43mfile\u001b[49m\u001b[38;5;241;43m.\u001b[39;49m\u001b[43mread\u001b[49m\u001b[43m(\u001b[49m\u001b[43m)\u001b[49m\u001b[43m)\u001b[49m\n",
      "File \u001b[0;32m~/.pyenv/versions/3.10.13/lib/python3.10/json/__init__.py:346\u001b[0m, in \u001b[0;36mloads\u001b[0;34m(s, cls, object_hook, parse_float, parse_int, parse_constant, object_pairs_hook, **kw)\u001b[0m\n\u001b[1;32m    341\u001b[0m     s \u001b[38;5;241m=\u001b[39m s\u001b[38;5;241m.\u001b[39mdecode(detect_encoding(s), \u001b[38;5;124m'\u001b[39m\u001b[38;5;124msurrogatepass\u001b[39m\u001b[38;5;124m'\u001b[39m)\n\u001b[1;32m    343\u001b[0m \u001b[38;5;28;01mif\u001b[39;00m (\u001b[38;5;28mcls\u001b[39m \u001b[38;5;129;01mis\u001b[39;00m \u001b[38;5;28;01mNone\u001b[39;00m \u001b[38;5;129;01mand\u001b[39;00m object_hook \u001b[38;5;129;01mis\u001b[39;00m \u001b[38;5;28;01mNone\u001b[39;00m \u001b[38;5;129;01mand\u001b[39;00m\n\u001b[1;32m    344\u001b[0m         parse_int \u001b[38;5;129;01mis\u001b[39;00m \u001b[38;5;28;01mNone\u001b[39;00m \u001b[38;5;129;01mand\u001b[39;00m parse_float \u001b[38;5;129;01mis\u001b[39;00m \u001b[38;5;28;01mNone\u001b[39;00m \u001b[38;5;129;01mand\u001b[39;00m\n\u001b[1;32m    345\u001b[0m         parse_constant \u001b[38;5;129;01mis\u001b[39;00m \u001b[38;5;28;01mNone\u001b[39;00m \u001b[38;5;129;01mand\u001b[39;00m object_pairs_hook \u001b[38;5;129;01mis\u001b[39;00m \u001b[38;5;28;01mNone\u001b[39;00m \u001b[38;5;129;01mand\u001b[39;00m \u001b[38;5;129;01mnot\u001b[39;00m kw):\n\u001b[0;32m--> 346\u001b[0m     \u001b[38;5;28;01mreturn\u001b[39;00m \u001b[43m_default_decoder\u001b[49m\u001b[38;5;241;43m.\u001b[39;49m\u001b[43mdecode\u001b[49m\u001b[43m(\u001b[49m\u001b[43ms\u001b[49m\u001b[43m)\u001b[49m\n\u001b[1;32m    347\u001b[0m \u001b[38;5;28;01mif\u001b[39;00m \u001b[38;5;28mcls\u001b[39m \u001b[38;5;129;01mis\u001b[39;00m \u001b[38;5;28;01mNone\u001b[39;00m:\n\u001b[1;32m    348\u001b[0m     \u001b[38;5;28mcls\u001b[39m \u001b[38;5;241m=\u001b[39m JSONDecoder\n",
      "File \u001b[0;32m~/.pyenv/versions/3.10.13/lib/python3.10/json/decoder.py:340\u001b[0m, in \u001b[0;36mJSONDecoder.decode\u001b[0;34m(self, s, _w)\u001b[0m\n\u001b[1;32m    338\u001b[0m end \u001b[38;5;241m=\u001b[39m _w(s, end)\u001b[38;5;241m.\u001b[39mend()\n\u001b[1;32m    339\u001b[0m \u001b[38;5;28;01mif\u001b[39;00m end \u001b[38;5;241m!=\u001b[39m \u001b[38;5;28mlen\u001b[39m(s):\n\u001b[0;32m--> 340\u001b[0m     \u001b[38;5;28;01mraise\u001b[39;00m JSONDecodeError(\u001b[38;5;124m\"\u001b[39m\u001b[38;5;124mExtra data\u001b[39m\u001b[38;5;124m\"\u001b[39m, s, end)\n\u001b[1;32m    341\u001b[0m \u001b[38;5;28;01mreturn\u001b[39;00m obj\n",
      "\u001b[0;31mJSONDecodeError\u001b[0m: Extra data: line 2 column 1 (char 280)"
     ]
    }
   ],
   "source": [
    "with open(output_path, \"r\", encoding=\"utf-8\") as file:\n",
    "    test = json.loads(file.read())"
   ]
  },
  {
   "cell_type": "markdown",
   "metadata": {},
   "source": [
    "### Create JSONL file for parallel request\n"
   ]
  },
  {
   "cell_type": "code",
   "execution_count": 11,
   "metadata": {},
   "outputs": [],
   "source": [
    "filename = Path(\"./example_requests_to_parallel_process.jsonl\")\n",
    "n_requests = 10  # 10_000\n",
    "jobs = [\n",
    "    {\n",
    "        \"model\": model_id,\n",
    "        \"response_format\": {\"type\": \"json_object\"},\n",
    "        \"temperature\": 1,\n",
    "        \"messages\": [\n",
    "            {\n",
    "                \"role\": \"user\",\n",
    "                \"content\": prompt_updated.format(\n",
    "                    rand_num=np.random.rand().__round__(5)\n",
    "                ),\n",
    "            },\n",
    "        ],\n",
    "    }\n",
    "    for _ in range(n_requests)\n",
    "]\n",
    "with open(filename, \"w\") as f:\n",
    "    for job in jobs:\n",
    "        json_string = json.dumps(job)\n",
    "        f.write(json_string + \"\\n\")"
   ]
  },
  {
   "cell_type": "markdown",
   "metadata": {},
   "source": [
    "#### Command to call script:\n"
   ]
  },
  {
   "cell_type": "markdown",
   "metadata": {},
   "source": [
    "python ./DATA/api_request_parallel_processor.py \\\n",
    " --requests_filepath ./DATA/example_requests_to_parallel_process.jsonl \\\n",
    " --save_filepath ./DATA/example_requests_to_parallel_process_results.jsonl \\\n",
    " --request_url https://api.openai.com/v1/embeddings \\\n",
    " --max_requests_per_minute 500 \\\n",
    " --max_tokens_per_minute 1000000 \\\n",
    " --token_encoding_name cl100k_base \\\n",
    " --max_attempts 5 \\\n",
    " --logging_level 20\n"
   ]
  },
  {
   "cell_type": "markdown",
   "metadata": {},
   "source": []
  }
 ],
 "metadata": {
  "kernelspec": {
   "display_name": "robot-whisperer-vONt6wL7-py3.10",
   "language": "python",
   "name": "python3"
  },
  "language_info": {
   "codemirror_mode": {
    "name": "ipython",
    "version": 3
   },
   "file_extension": ".py",
   "mimetype": "text/x-python",
   "name": "python",
   "nbconvert_exporter": "python",
   "pygments_lexer": "ipython3",
   "version": "3.10.13"
  }
 },
 "nbformat": 4,
 "nbformat_minor": 2
}
