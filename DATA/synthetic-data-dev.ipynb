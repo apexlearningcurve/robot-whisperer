{
 "cells": [
  {
   "cell_type": "code",
   "execution_count": 187,
   "metadata": {},
   "outputs": [],
   "source": [
    "import os\n",
    "import json\n",
    "import openai\n",
    "import tiktoken\n",
    "import numpy as np\n",
    "from dotenv import find_dotenv, load_dotenv"
   ]
  },
  {
   "cell_type": "code",
   "execution_count": 5,
   "metadata": {},
   "outputs": [
    {
     "data": {
      "text/plain": [
       "True"
      ]
     },
     "execution_count": 5,
     "metadata": {},
     "output_type": "execute_result"
    }
   ],
   "source": [
    "load_dotenv(find_dotenv())"
   ]
  },
  {
   "cell_type": "code",
   "execution_count": null,
   "metadata": {},
   "outputs": [],
   "source": []
  },
  {
   "cell_type": "code",
   "execution_count": 112,
   "metadata": {},
   "outputs": [],
   "source": [
    "model_id = \"gpt-3.5-turbo-1106\"\n",
    "client = openai.OpenAI(api_key=os.environ[\"OPENAI_API_KEY\"])\n",
    "tokenizer = tiktoken.encoding_for_model(model_id)"
   ]
  },
  {
   "cell_type": "code",
   "execution_count": null,
   "metadata": {},
   "outputs": [],
   "source": [
    "classifier_prompt_1 = \"\"\"\n",
    "<s>[INST]\n",
    "# TASK DESCRIPTION\n",
    "You are to analyze user queries regarding industrial robotic operations and translate these into specific function calls. Your role is to bridge human instructions and the technical execution of a robot.\n",
    "You will extract the information and values from the USER QUERY and form a JSON output which will represent a fuction call, you will fill in the JSON \n",
    "with the necessary information. \n",
    "\n",
    "# JSON PARAMETER VALUES\n",
    "- functions: This is an array that represents all the function calls needed to perform the actions requested buy the USER QUERY. The structure of each function is defined below. These\n",
    "functions are separated in the USER QUERY by words like \"and\", \"then\" ... you need to fill the array using all the actions defined by the USER QUERY while respectiong all the rules defined below.\n",
    "- function_name: Which function does the robot need to perform. Can be only one of these: move_tcp, move_joint, get_joint_values\n",
    "- input_name: Input parameter name for the function. Every function has a defined set of input parameters, what they mean, how they are named and what type of value they can be.\n",
    "- input_value: The value of the previously mentioned function input parameter. It's type is defined within the function explaination\n",
    "- inputs: An array of input_name, input_value pairs. One inputs array defines all the input parameters for a function call. This array must be complete according to the definition of the chosen function_name \n",
    "\n",
    "# FUNCTION MEANING\n",
    "- move_tcp: Moves the robot's tool center point (TCP). This function takes as inputs: x, y, z, q1, q2, q3, q4\n",
    "x, y ,z can only have number values, they represent the desired position of the TCP for each axis and are expressed in milimeters, this unit is implicit. Example: \"Move TCP to the right by 0.1m\" results in input_name: x and input_value: 10 \n",
    "q1, q2, q3, q4 can only have number values and represent the quaternion value of the TCP orientation, defalut should be the TCP pointing down with it's z axis \n",
    "- move_joint: Rotates or moves a specific robot joint. This funciton takes as inputs joint, angle \n",
    "joint is the index of the joint that needs to rotate. Joints are indext 0, 1, 2 ... The joint 0 is also often reffered to as \"base joint\", \"robot base\" or just \"base\"\n",
    "angle is the amount the specified joint needs to rotate and is expressed in radians\n",
    "Example: \"Rotate the third joint by 90 degrees.\" results in joint: 2 angle: 1.5708\n",
    "- get_joint_values: Retrieves current status of the robot's joints. This function takes no input parameters! Example: \"What is the position of the fifth joint?\"\n",
    "\n",
    "# RESPONSE FORMAT\n",
    "- Include only the necessary functions directly implied by the query.\n",
    "- Maintain the order of functions as implied by the sequence of actions in the query.\n",
    "- In case of ambiguity, provide the most likely function while noting the uncertainty.\n",
    "\n",
    "# ADDITIONAL GUIDANCE\n",
    "- Focus on the verbs and technical terms in the query to determine the appropriate function.\n",
    "- If a query involves actions not covered by the functions, such as maintenance requests, indicate that the query falls outside the function list.\n",
    "- Consider the practical aspects of robotic operations when interpreting instructions.\n",
    "- Treat \"base\" as equivalent to the first robot \"joint\".\n",
    "\n",
    "USER QUERY: {user_query}\n",
    "[/INST]\n",
    "\"\"\""
   ]
  },
  {
   "cell_type": "code",
   "execution_count": 116,
   "metadata": {},
   "outputs": [],
   "source": [
    "prompt = \"\"\"\n",
    "# TASK DESCRIPTION\n",
    "You are to generate dataset for LLM fine-tuning that will have pairs of user queries regarding industrial robotic operations and those queries trnaslated into specific function calls.\n",
    "Your role is to bridge human instructions and the technical execution of a robot.\n",
    "You will generate USER QUERY and appropriate JSON output which will represent a fuction call, you will fill in the JSON \n",
    "with the necessary information. \n",
    "\n",
    "# JSON PARAMETER VALUES\n",
    "- query: Generated user query.\n",
    "- functions: This is an array that represents all the function calls needed to perform the actions requested buy the USER QUERY. The structure of each function is defined below. These\n",
    "functions are separated in the USER QUERY by words like \"and\", \"then\", \",\", \".\", \";\" ... you need to fill the array using all the actions defined by the USER QUERY while respectiong all the rules defined below.\n",
    "- function_name: Which function does the robot need to perform. Can be only one of these: move_tcp, move_joint, get_joint_values.\n",
    "- input_name: Input parameter name for the function. Every function has a defined set of input parameters, what they mean, how they are named and what type of value they can be.\n",
    "- input_value: The value of the previously mentioned function input parameter. It's type is defined within the function explaination.\n",
    "\n",
    "# FUNCTIONS AND MEANINGS\n",
    "- move_tcp: Moves the robot's tool center point (TCP). This function takes as inputs: x, y, z, q1, q2, q3, q4\n",
    "x, y ,z can only have number values and units, they represent the desired position of the TCP for each axis and units in wich are expressed. EXAMPLE: \"Move TCP along x axis for 0.1m\" results in input_name: x and input_value: 0.1, unit: m\n",
    "q1, q2, q3, q4 can only have number values and represent the quaternion value of the TCP orientation, defalut should be the TCP pointing down with it's z axis.\n",
    "- move_joint: Rotates or moves a specific robot joint. This funciton takes as inputs joint, angle \n",
    "joint is the index of the joint that needs to rotate. Joints are indext 0, 1, 2 ... The joint 0 is also often reffered to as \"base joint\", \"robot base\" or just \"base\".\n",
    "Angle is the amount the specified joint needs to rotate. You need to detect unit for angle that user what from the query.\n",
    "Example: \"Rotate the third joint by 90 degrees.\" results in joint: 2 angle: 90, unit: deg\n",
    "- get_joint_values: Retrieves current status of the robot's joints. This function takes no input parameters! Example: \"What is the position of the fifth joint?\"\n",
    "\n",
    "# RESPONSE FORMAT\n",
    "- In move_tcp request, user query MUST contain value for how much robot arm needsto move.\n",
    "- For inputs only return unit if it is needed, if value doesn't require units do not return them.\n",
    "- Return only values specified in query, DO NOT return default values.\n",
    "- Include only the necessary functions directly implied by the query.\n",
    "- Maintain the order of functions as implied by the sequence of actions in the query.\n",
    "\n",
    "# GUIDANCE\n",
    "- Focus on the verbs and technical terms in the query to determine the appropriate function.\n",
    "- Query needs to involves specified movement or rotation like: 'TCP' or 'joint' and appropriate arguments.\n",
    "- In cases of compound queries (multiple actions), break down each action to decide the appropriate function.\n",
    "- Consider the practical aspects of robotic operations when interpreting instructions.\n",
    "- Treat \"base\" as equivalent to the first robot \"joint\".\n",
    "- Determenistic queries: Queries need to contain all information needed for function to be called. Avoid ambiguos queries. \n",
    "- Be precise: Ensure the functions match the specific actions requested in the query.\n",
    "- Human like queries: Generate queries that have additional context but do not infulence desired outcome. \n",
    "- Query can contain 1, 2, 3 or more actions.\n",
    "\n",
    "# RESPONSE EXAMPLE:\n",
    "{\n",
    "    \"query\" : <generated_query>,\n",
    "    \"functions\" : [\n",
    "        {\n",
    "            \"function_name\" : <name_from_functions_and_meanings>\n",
    "            \"inputs\" : [\n",
    "                {\n",
    "                    \"name\" : <name>,\n",
    "                    \"value\" : <value>,\n",
    "                    \"unit\" : <unit>,\n",
    "                },\n",
    "                {\n",
    "                    \"name\" : <name>,\n",
    "                    \"value\" : <value>,\n",
    "                    \"unit\" : <unit>,\n",
    "                },\n",
    "            ]\n",
    "        },\n",
    "        {\n",
    "            \"function_name\" : <name_from_functions_and_meanings>\n",
    "            \"inputs\" : [\n",
    "                {\n",
    "                    \"name\" : <name>,\n",
    "                    \"value\" : <value>,\n",
    "                    \"unit\" : <unit>,\n",
    "                }\n",
    "            ]\n",
    "        }\n",
    "    ]\n",
    "\n",
    "}\n",
    "\n",
    "\"\"\""
   ]
  },
  {
   "cell_type": "code",
   "execution_count": 117,
   "metadata": {},
   "outputs": [
    {
     "data": {
      "text/plain": [
       "995"
      ]
     },
     "execution_count": 117,
     "metadata": {},
     "output_type": "execute_result"
    }
   ],
   "source": [
    "prompt_tokenized = tokenizer.encode(prompt)\n",
    "len(prompt_tokenized)"
   ]
  },
  {
   "cell_type": "code",
   "execution_count": 196,
   "metadata": {},
   "outputs": [
    {
     "data": {
      "text/plain": [
       "0.51507"
      ]
     },
     "execution_count": 196,
     "metadata": {},
     "output_type": "execute_result"
    }
   ],
   "source": [
    "rand_num = np.random.rand().__round__(5)\n",
    "rand_num"
   ]
  },
  {
   "cell_type": "code",
   "execution_count": 228,
   "metadata": {},
   "outputs": [],
   "source": [
    "prompt_updated = \"\"\"\n",
    "# TASK DESCRIPTION {rand_num}\n",
    "Create a dataset for LLM fine-tuning consisting of user queries about industrial robotic operations and their corresponding JSON function calls. Focus on generating queries with varying complexity levels, from simple to advanced, and provide examples in real-world scenarios.\n",
    "\n",
    "# JSON PARAMETER VALUES\n",
    "- query: User-generated query, varying in complexity (contains different number of functions in query).\n",
    "- functions: Array of function calls derived from the query, identified using separators like \"and\", \"then\", \",\", etc.\n",
    "- function_name: Specific robot function (\"move_tcp\", \"move_joint\", \"get_joint_values\").\n",
    "- input_name: Name of the function's input parameter, specifying the type (integer, float, string).\n",
    "- input_value: Value of the input parameter, adhering to the specified type.\n",
    "\n",
    "# FUNCTIONS EXPLAINED WITH EXAMPLES\n",
    "- move_tcp: Moves the robot's TCP. \n",
    "    Inputs: x, y, z (position; type: float), q1, q2, q3, q4 (quaternion values; type: float), unit (correlates to x, y, z; type: str, [\"m\", \"cm\", \"mm\"]). \n",
    "    Example: \"Move TCP to coordinates (0.5, 0.3, 0.7) m\" translates to x: 0.5, y: 0.3, z: 0.7; unit: m\n",
    "- move_joint: Rotates/moves a robot joint. \n",
    "    Inputs: joint (index number; type: array of integers; note: joints go from 0 to n-1), angle (degrees or radians, type: array of floats), unit (correlates to angle; type: str, [\"rad\", \"deg\"]). \n",
    "    Example: \"Rotate joint 2 by 45 degrees\" results in joint: [2], angle: [45], unit: deg.\n",
    "- get_joint_values: Retrieves robot joint statuses, no input parameters required. \n",
    "    Example: \"Get the current status of robot joints.\"\n",
    "\n",
    "# GUIDANCE\n",
    "- Focus on verbs and technical terms for function selection.\n",
    "- Ensure queries are deterministic and precise.\n",
    "- Queries should vary in complexity, from direct instructions to those requiring contextual understanding.\n",
    "- Real-World Scenarios: Frame queries in practical industrial settings.\n",
    "\n",
    "# RESPONSE FORMAT\n",
    "- Include only necessary functions as per the query.\n",
    "- Maintain the sequence of functions as in the query.\n",
    "- Specify units only when required, omit default values.\n",
    "\n",
    "# JSON FORMAT\n",
    "{{\n",
    "    \"query\": \"<generated_query>\",\n",
    "    \"functions\": [\n",
    "        {{\n",
    "            \"function_name\": \"<name>\",\n",
    "            \"inputs\": [\n",
    "                {{\"name\": \"<name>\", \"value\": \"<value>\", \"unit\": \"<unit>\"}},\n",
    "                {{\"name\": \"<name>\", \"value\": \"<value>\", \"unit\": \"<unit>\"}}\n",
    "            ]\n",
    "        }},\n",
    "        {{\n",
    "            \"function_name\": \"<name>\",\n",
    "            \"inputs\": [{{\"name\": \"<name>\", \"value\": \"<value>\", \"unit\": \"<unit>\"}}]\n",
    "        }}\n",
    "    ]\n",
    "}}\n",
    "\n",
    "# GENERATED EXAMPLES:\n",
    "    NOTE: DO NOT copy these examples, only use them as a reference!\n",
    "    {{\n",
    "        'query': 'Move robot tcp along x and y for 1000mm',\n",
    "        'functions': [{{'function_name': 'move_tcp',\n",
    "            'inputs': [\n",
    "                {{'name': 'x', 'value': 1000.0, 'unit': 'mm'}},\n",
    "                {{'name': 'y', 'value': 1000.0, 'unit': 'mm'}}\n",
    "                ]\n",
    "            }}\n",
    "        ]\n",
    "    }}\n",
    "    {{\n",
    "        'query': 'Move robot sixth joint for -30 degrees',\n",
    "        'functions': [{{'function_name': 'move_joint',\n",
    "            'inputs': [\n",
    "                {{'name': 'joint', 'value': [5], 'unit': None}},\n",
    "                {{'name': 'angle', 'value': [-30.0], 'unit': 'deg'}}\n",
    "                ]\n",
    "            }}\n",
    "        ]\n",
    "    }}\n",
    "    {{\n",
    "        'query': 'Give me robot joints info',\n",
    "        'functions': [{{'function_name': 'get_joint_values',\n",
    "            'inputs': []\n",
    "            }}\n",
    "        ]\n",
    "    }}\n",
    "    {{\n",
    "        'query': 'Rotate robot base for 45 and move TCP along x axis for 50 milimeters.',\n",
    "        'functions': [\n",
    "            {{'function_name': 'move_joint',\n",
    "                'inputs': [\n",
    "                    {{'name': 'joint', 'value': [0], 'unit': None}},\n",
    "                    {{'name': 'angle', 'value': [45.0], 'unit': 'deg'}}\n",
    "                ]\n",
    "            }},\n",
    "            {{'function_name': 'move_tcp',\n",
    "                'inputs': [{{'name': 'x', 'value': 50.0, 'unit': 'mm'}}]\n",
    "            }}\n",
    "        ]\n",
    "    }}\n",
    "    {{\n",
    "        'query': 'I want you to rotate joint 2 for 30 and joint 7 for 45 degrees then joint 3 for pi/4',\n",
    "        'functions': [\n",
    "            {{'function_name': 'move_joint',\n",
    "                'inputs': [\n",
    "                    {{'name': 'joint', 'value': [2, 7], 'unit': None}},\n",
    "                    {{'name': 'angle', 'value': [30.0, 45.0], 'unit': 'deg'}}\n",
    "                    ]\n",
    "            }},\n",
    "            {{'function_name': 'move_joint',\n",
    "                'inputs': [\n",
    "                    {{'name': 'joint', 'value': [3], 'unit': None}},\n",
    "                    {{'name': 'angle', 'value': [0.785398], 'unit': 'rad'}}\n",
    "                    ]\n",
    "            }}\n",
    "        ]\n",
    "    }}\n",
    "\"\"\""
   ]
  },
  {
   "cell_type": "code",
   "execution_count": 229,
   "metadata": {},
   "outputs": [
    {
     "data": {
      "text/plain": [
       "1177"
      ]
     },
     "execution_count": 229,
     "metadata": {},
     "output_type": "execute_result"
    }
   ],
   "source": [
    "prompt_tokenized = tokenizer.encode(prompt_updated)\n",
    "len(prompt_tokenized)"
   ]
  },
  {
   "cell_type": "code",
   "execution_count": 242,
   "metadata": {},
   "outputs": [],
   "source": [
    "response = client.chat.completions.create(\n",
    "    model=model_id,\n",
    "    temperature=1,\n",
    "    response_format={\"type\": \"json_object\"},\n",
    "    messages=[\n",
    "        {\n",
    "            \"role\": \"system\",\n",
    "            \"content\": \"You are a helpful assistant designed to output JSON.\",\n",
    "        },\n",
    "        {\n",
    "            \"role\": \"user\",\n",
    "            \"content\": prompt_updated.format(rand_num=np.random.rand().__round__(5)),\n",
    "        },\n",
    "    ],\n",
    ")"
   ]
  },
  {
   "cell_type": "markdown",
   "metadata": {},
   "source": [
    "Witch system prompt"
   ]
  },
  {
   "cell_type": "code",
   "execution_count": 243,
   "metadata": {},
   "outputs": [
    {
     "data": {
      "text/plain": [
       "{'query': 'Move robot tcp along z for 300 milimeters and then get the current status of robot joints',\n",
       " 'functions': [{'function_name': 'move_tcp',\n",
       "   'inputs': [{'name': 'z', 'value': 300.0, 'unit': 'mm'}]},\n",
       "  {'function_name': 'get_joint_values', 'inputs': []}]}"
      ]
     },
     "execution_count": 243,
     "metadata": {},
     "output_type": "execute_result"
    }
   ],
   "source": [
    "gen_data = json.loads(response.choices[0].message.content)\n",
    "gen_data"
   ]
  },
  {
   "cell_type": "markdown",
   "metadata": {},
   "source": [
    "Without system prompt"
   ]
  },
  {
   "cell_type": "code",
   "execution_count": 248,
   "metadata": {},
   "outputs": [],
   "source": [
    "response = client.chat.completions.create(\n",
    "    model=model_id,\n",
    "    temperature=1,\n",
    "    response_format={\"type\": \"json_object\"},\n",
    "    messages=[\n",
    "        {\n",
    "            \"role\": \"user\",\n",
    "            \"content\": prompt_updated.format(rand_num=np.random.rand().__round__(5)),\n",
    "        },\n",
    "    ],\n",
    ")"
   ]
  },
  {
   "cell_type": "code",
   "execution_count": 249,
   "metadata": {},
   "outputs": [
    {
     "data": {
      "text/plain": [
       "{'query': 'Move robot tcp to position (0.6, 0.8, 0.9) meters',\n",
       " 'functions': [{'function_name': 'move_tcp',\n",
       "   'inputs': [{'name': 'x', 'value': 0.6, 'unit': 'm'},\n",
       "    {'name': 'y', 'value': 0.8, 'unit': 'm'},\n",
       "    {'name': 'z', 'value': 0.9, 'unit': 'm'}]}]}"
      ]
     },
     "execution_count": 249,
     "metadata": {},
     "output_type": "execute_result"
    }
   ],
   "source": [
    "gen_data = json.loads(response.choices[0].message.content)\n",
    "gen_data"
   ]
  },
  {
   "cell_type": "code",
   "execution_count": null,
   "metadata": {},
   "outputs": [],
   "source": []
  }
 ],
 "metadata": {
  "kernelspec": {
   "display_name": "robot-whisperer-vONt6wL7-py3.10",
   "language": "python",
   "name": "python3"
  },
  "language_info": {
   "codemirror_mode": {
    "name": "ipython",
    "version": 3
   },
   "file_extension": ".py",
   "mimetype": "text/x-python",
   "name": "python",
   "nbconvert_exporter": "python",
   "pygments_lexer": "ipython3",
   "version": "3.10.13"
  }
 },
 "nbformat": 4,
 "nbformat_minor": 2
}
